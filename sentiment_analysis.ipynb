{
 "cells": [
  {
   "cell_type": "code",
   "execution_count": 11,
   "metadata": {},
   "outputs": [],
   "source": [
    "import pandas as pd\n",
    "import numpy as np\n",
    "import matplotlib.pyplot as plt \n",
    "import seaborn as sns\n",
    "\n",
    "plt.style.use('ggplot')\n",
    "import nltk"
   ]
  },
  {
   "cell_type": "code",
   "execution_count": 20,
   "metadata": {},
   "outputs": [
    {
     "name": "stderr",
     "output_type": "stream",
     "text": [
      "[nltk_data] Downloading package punkt to\n",
      "[nltk_data]     C:\\Users\\KHUSHI\\AppData\\Roaming\\nltk_data...\n",
      "[nltk_data]   Package punkt is already up-to-date!\n",
      "[nltk_data] Downloading package averaged_perceptron_tagger to\n",
      "[nltk_data]     C:\\Users\\KHUSHI\\AppData\\Roaming\\nltk_data...\n",
      "[nltk_data]   Package averaged_perceptron_tagger is already up-to-\n",
      "[nltk_data]       date!\n",
      "[nltk_data] Downloading package maxent_ne_chunker to\n",
      "[nltk_data]     C:\\Users\\KHUSHI\\AppData\\Roaming\\nltk_data...\n",
      "[nltk_data]   Unzipping chunkers\\maxent_ne_chunker.zip.\n",
      "[nltk_data] Downloading package words to\n",
      "[nltk_data]     C:\\Users\\KHUSHI\\AppData\\Roaming\\nltk_data...\n",
      "[nltk_data]   Unzipping corpora\\words.zip.\n"
     ]
    },
    {
     "data": {
      "text/plain": [
       "True"
      ]
     },
     "execution_count": 20,
     "metadata": {},
     "output_type": "execute_result"
    }
   ],
   "source": [
    "nltk.download('punkt')\n",
    "nltk.download('averaged_perceptron_tagger')\n",
    "nltk.download('maxent_ne_chunker')\n",
    "nltk.download('words')"
   ]
  },
  {
   "cell_type": "code",
   "execution_count": 2,
   "metadata": {},
   "outputs": [],
   "source": [
    "df = pd.read_csv(\"Reviews.csv\")"
   ]
  },
  {
   "cell_type": "code",
   "execution_count": 3,
   "metadata": {},
   "outputs": [
    {
     "data": {
      "text/html": [
       "<div>\n",
       "<style scoped>\n",
       "    .dataframe tbody tr th:only-of-type {\n",
       "        vertical-align: middle;\n",
       "    }\n",
       "\n",
       "    .dataframe tbody tr th {\n",
       "        vertical-align: top;\n",
       "    }\n",
       "\n",
       "    .dataframe thead th {\n",
       "        text-align: right;\n",
       "    }\n",
       "</style>\n",
       "<table border=\"1\" class=\"dataframe\">\n",
       "  <thead>\n",
       "    <tr style=\"text-align: right;\">\n",
       "      <th></th>\n",
       "      <th>Id</th>\n",
       "      <th>ProductId</th>\n",
       "      <th>UserId</th>\n",
       "      <th>ProfileName</th>\n",
       "      <th>HelpfulnessNumerator</th>\n",
       "      <th>HelpfulnessDenominator</th>\n",
       "      <th>Score</th>\n",
       "      <th>Time</th>\n",
       "      <th>Summary</th>\n",
       "      <th>Text</th>\n",
       "    </tr>\n",
       "  </thead>\n",
       "  <tbody>\n",
       "    <tr>\n",
       "      <th>0</th>\n",
       "      <td>1</td>\n",
       "      <td>B001E4KFG0</td>\n",
       "      <td>A3SGXH7AUHU8GW</td>\n",
       "      <td>delmartian</td>\n",
       "      <td>1</td>\n",
       "      <td>1</td>\n",
       "      <td>5</td>\n",
       "      <td>1303862400</td>\n",
       "      <td>Good Quality Dog Food</td>\n",
       "      <td>I have bought several of the Vitality canned d...</td>\n",
       "    </tr>\n",
       "    <tr>\n",
       "      <th>1</th>\n",
       "      <td>2</td>\n",
       "      <td>B00813GRG4</td>\n",
       "      <td>A1D87F6ZCVE5NK</td>\n",
       "      <td>dll pa</td>\n",
       "      <td>0</td>\n",
       "      <td>0</td>\n",
       "      <td>1</td>\n",
       "      <td>1346976000</td>\n",
       "      <td>Not as Advertised</td>\n",
       "      <td>Product arrived labeled as Jumbo Salted Peanut...</td>\n",
       "    </tr>\n",
       "    <tr>\n",
       "      <th>2</th>\n",
       "      <td>3</td>\n",
       "      <td>B000LQOCH0</td>\n",
       "      <td>ABXLMWJIXXAIN</td>\n",
       "      <td>Natalia Corres \"Natalia Corres\"</td>\n",
       "      <td>1</td>\n",
       "      <td>1</td>\n",
       "      <td>4</td>\n",
       "      <td>1219017600</td>\n",
       "      <td>\"Delight\" says it all</td>\n",
       "      <td>This is a confection that has been around a fe...</td>\n",
       "    </tr>\n",
       "    <tr>\n",
       "      <th>3</th>\n",
       "      <td>4</td>\n",
       "      <td>B000UA0QIQ</td>\n",
       "      <td>A395BORC6FGVXV</td>\n",
       "      <td>Karl</td>\n",
       "      <td>3</td>\n",
       "      <td>3</td>\n",
       "      <td>2</td>\n",
       "      <td>1307923200</td>\n",
       "      <td>Cough Medicine</td>\n",
       "      <td>If you are looking for the secret ingredient i...</td>\n",
       "    </tr>\n",
       "    <tr>\n",
       "      <th>4</th>\n",
       "      <td>5</td>\n",
       "      <td>B006K2ZZ7K</td>\n",
       "      <td>A1UQRSCLF8GW1T</td>\n",
       "      <td>Michael D. Bigham \"M. Wassir\"</td>\n",
       "      <td>0</td>\n",
       "      <td>0</td>\n",
       "      <td>5</td>\n",
       "      <td>1350777600</td>\n",
       "      <td>Great taffy</td>\n",
       "      <td>Great taffy at a great price.  There was a wid...</td>\n",
       "    </tr>\n",
       "  </tbody>\n",
       "</table>\n",
       "</div>"
      ],
      "text/plain": [
       "   Id   ProductId          UserId                      ProfileName  \\\n",
       "0   1  B001E4KFG0  A3SGXH7AUHU8GW                       delmartian   \n",
       "1   2  B00813GRG4  A1D87F6ZCVE5NK                           dll pa   \n",
       "2   3  B000LQOCH0   ABXLMWJIXXAIN  Natalia Corres \"Natalia Corres\"   \n",
       "3   4  B000UA0QIQ  A395BORC6FGVXV                             Karl   \n",
       "4   5  B006K2ZZ7K  A1UQRSCLF8GW1T    Michael D. Bigham \"M. Wassir\"   \n",
       "\n",
       "   HelpfulnessNumerator  HelpfulnessDenominator  Score        Time  \\\n",
       "0                     1                       1      5  1303862400   \n",
       "1                     0                       0      1  1346976000   \n",
       "2                     1                       1      4  1219017600   \n",
       "3                     3                       3      2  1307923200   \n",
       "4                     0                       0      5  1350777600   \n",
       "\n",
       "                 Summary                                               Text  \n",
       "0  Good Quality Dog Food  I have bought several of the Vitality canned d...  \n",
       "1      Not as Advertised  Product arrived labeled as Jumbo Salted Peanut...  \n",
       "2  \"Delight\" says it all  This is a confection that has been around a fe...  \n",
       "3         Cough Medicine  If you are looking for the secret ingredient i...  \n",
       "4            Great taffy  Great taffy at a great price.  There was a wid...  "
      ]
     },
     "execution_count": 3,
     "metadata": {},
     "output_type": "execute_result"
    }
   ],
   "source": [
    "df.head()"
   ]
  },
  {
   "cell_type": "code",
   "execution_count": 4,
   "metadata": {},
   "outputs": [],
   "source": [
    "df = df.head(500)"
   ]
  },
  {
   "cell_type": "code",
   "execution_count": 7,
   "metadata": {},
   "outputs": [
    {
     "data": {
      "image/png": "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",
      "text/plain": [
       "<Figure size 1000x500 with 1 Axes>"
      ]
     },
     "metadata": {},
     "output_type": "display_data"
    }
   ],
   "source": [
    "ax = df['Score'].value_counts().sort_index().plot(kind='bar' ,title='Count of Reviews by Star', figsize=(10,5))\n",
    "ax.set_xlabel('Review Star')\n",
    "plt.show()"
   ]
  },
  {
   "cell_type": "code",
   "execution_count": 8,
   "metadata": {},
   "outputs": [
    {
     "name": "stdout",
     "output_type": "stream",
     "text": [
      "I have never been a huge coffee fan. However, my mother purchased this little machine and talked me into trying the Latte Macciato. No Coffee Shop has a better one and I like most of the other products, too (as a usually non-coffee drinker!).<br />The little Dolche Guesto Machine is super easy to use and prepares a really good Coffee/Latte/Cappuccino/etc in less than a minute (if water is heated up). I would recommend the Dolce Gusto to anyone. Too good for the price and I'am getting one myself! :)\n"
     ]
    }
   ],
   "source": [
    "example = df['Text'][30]\n",
    "print(example)"
   ]
  },
  {
   "cell_type": "code",
   "execution_count": 13,
   "metadata": {},
   "outputs": [
    {
     "name": "stdout",
     "output_type": "stream",
     "text": [
      "['I', 'have', 'never', 'been', 'a', 'huge', 'coffee', 'fan', '.', 'However', ',', 'my', 'mother', 'purchased', 'this', 'little', 'machine', 'and', 'talked', 'me', 'into', 'trying', 'the', 'Latte', 'Macciato', '.', 'No', 'Coffee', 'Shop', 'has', 'a', 'better', 'one', 'and', 'I', 'like', 'most', 'of', 'the', 'other', 'products', ',', 'too', '(', 'as', 'a', 'usually', 'non-coffee', 'drinker', '!', ')', '.', '<', 'br', '/', '>', 'The', 'little', 'Dolche', 'Guesto', 'Machine', 'is', 'super', 'easy', 'to', 'use', 'and', 'prepares', 'a', 'really', 'good', 'Coffee/Latte/Cappuccino/etc', 'in', 'less', 'than', 'a', 'minute', '(', 'if', 'water', 'is', 'heated', 'up', ')', '.', 'I', 'would', 'recommend', 'the', 'Dolce', 'Gusto', 'to', 'anyone', '.', 'Too', 'good', 'for', 'the', 'price', 'and', \"I'am\", 'getting', 'one', 'myself', '!', ':', ')']\n"
     ]
    }
   ],
   "source": [
    "token = nltk.word_tokenize(example)\n",
    "print(token)"
   ]
  },
  {
   "cell_type": "code",
   "execution_count": 18,
   "metadata": {},
   "outputs": [],
   "source": [
    "tagged = nltk.pos_tag(token)"
   ]
  },
  {
   "cell_type": "code",
   "execution_count": 22,
   "metadata": {},
   "outputs": [
    {
     "name": "stdout",
     "output_type": "stream",
     "text": [
      "(S\n",
      "  I/PRP\n",
      "  have/VBP\n",
      "  never/RB\n",
      "  been/VBN\n",
      "  a/DT\n",
      "  huge/JJ\n",
      "  coffee/NN\n",
      "  fan/NN\n",
      "  ./.\n",
      "  However/RB\n",
      "  ,/,\n",
      "  my/PRP$\n",
      "  mother/NN\n",
      "  purchased/VBD\n",
      "  this/DT\n",
      "  little/JJ\n",
      "  machine/NN\n",
      "  and/CC\n",
      "  talked/VBD\n",
      "  me/PRP\n",
      "  into/IN\n",
      "  trying/VBG\n",
      "  the/DT\n",
      "  (ORGANIZATION Latte/NNP Macciato/NNP)\n",
      "  ./.\n",
      "  (PERSON No/NNP Coffee/NNP Shop/NNP)\n",
      "  has/VBZ\n",
      "  a/DT\n",
      "  better/JJR\n",
      "  one/CD\n",
      "  and/CC\n",
      "  I/PRP\n",
      "  like/VBP\n",
      "  most/JJS\n",
      "  of/IN\n",
      "  the/DT\n",
      "  other/JJ\n",
      "  products/NNS\n",
      "  ,/,\n",
      "  too/RB\n",
      "  (/(\n",
      "  as/IN\n",
      "  a/DT\n",
      "  usually/RB\n",
      "  non-coffee/JJ\n",
      "  drinker/NN\n",
      "  !/.\n",
      "  )/)\n",
      "  ./.\n",
      "  </JJ\n",
      "  br/NN\n",
      "  //NNP\n",
      "  >/VBZ\n",
      "  The/DT\n",
      "  little/JJ\n",
      "  (PERSON Dolche/NNP Guesto/NNP Machine/NNP)\n",
      "  is/VBZ\n",
      "  super/JJ\n",
      "  easy/JJ\n",
      "  to/TO\n",
      "  use/VB\n",
      "  and/CC\n",
      "  prepares/VBZ\n",
      "  a/DT\n",
      "  really/RB\n",
      "  good/JJ\n",
      "  Coffee/Latte/Cappuccino/etc/NNP\n",
      "  in/IN\n",
      "  less/JJR\n",
      "  than/IN\n",
      "  a/DT\n",
      "  minute/NN\n",
      "  (/(\n",
      "  if/IN\n",
      "  water/NN\n",
      "  is/VBZ\n",
      "  heated/VBN\n",
      "  up/RP\n",
      "  )/)\n",
      "  ./.\n",
      "  I/PRP\n",
      "  would/MD\n",
      "  recommend/VB\n",
      "  the/DT\n",
      "  (ORGANIZATION Dolce/NNP Gusto/NNP)\n",
      "  to/TO\n",
      "  anyone/NN\n",
      "  ./.\n",
      "  Too/NNP\n",
      "  good/JJ\n",
      "  for/IN\n",
      "  the/DT\n",
      "  price/NN\n",
      "  and/CC\n",
      "  I'am/NNP\n",
      "  getting/VBG\n",
      "  one/CD\n",
      "  myself/NN\n",
      "  !/.\n",
      "  :/:\n",
      "  )/))\n"
     ]
    }
   ],
   "source": [
    "entities = nltk.chunk.ne_chunk(tagged)\n",
    "print(entities)"
   ]
  },
  {
   "cell_type": "code",
   "execution_count": null,
   "metadata": {},
   "outputs": [],
   "source": []
  }
 ],
 "metadata": {
  "kernelspec": {
   "display_name": "Python 3",
   "language": "python",
   "name": "python3"
  },
  "language_info": {
   "codemirror_mode": {
    "name": "ipython",
    "version": 3
   },
   "file_extension": ".py",
   "mimetype": "text/x-python",
   "name": "python",
   "nbconvert_exporter":