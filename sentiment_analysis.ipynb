{
 "cells": [
  {
   "cell_type": "code",
   "execution_count": 11,
   "metadata": {},
   "outputs": [],
   "source": [
    "import pandas as pd\n",
    "import numpy as np\n",
    "import matplotlib.pyplot as plt \n",
    "import seaborn as sns\n",
    "\n",
    "plt.style.use('ggplot')\n",
    "import nltk"
   ]
  },
  {
   "cell_type": "code",
   "execution_count": 20,
   "metadata": {},
   "outputs": [
    {
     "name": "stderr",
     "output_type": "stream",
     "text": [
      "[nltk_data] Downloading package punkt to\n",
      "[nltk_data]     C:\\Users\\KHUSHI\\AppData\\Roaming\\nltk_data...\n",
      "[nltk_data]   Package punkt is already up-to-date!\n",
      "[nltk_data] Downloading package averaged_perceptron_tagger to\n",
      "[nltk_data]     C:\\Users\\KHUSHI\\AppData\\Roaming\\nltk_data...\n",
      "[nltk_data]   Package averaged_perceptron_tagger is already up-to-\n",
      "[nltk_data]       date!\n",
      "[nltk_data] Downloading package maxent_ne_chunker to\n",
      "[nltk_data]     C:\\Users\\KHUSHI\\AppData\\Roaming\\nltk_data...\n",
      "[nltk_data]   Unzipping chunkers\\maxent_ne_chunker.zip.\n",
      "[nltk_data] Downloading package words to\n",
      "[nltk_data]     C:\\Users\\KHUSHI\\AppData\\Roaming\\nltk_data...\n",
      "[nltk_data]   Unzipping corpora\\words.zip.\n"
     ]
    },
    {
     "data": {
      "text/plain": [
       "True"
      ]
     },
     "execution_count": 20,
     "metadata": {},
     "output_type": "execute_result"
    }
   ],
   "source": [
    "nltk.download('punkt')\n",
    "nltk.download('averaged_perceptron_tagger')\n",
    "nltk.download('maxent_ne_chunker')\n",
    "nltk.download('words')"
   ]
  },
  {
   "cell_type": "code",
   "execution_count": 2,
   "metadata": {},
   "outputs": [],
   "source": [
    "df = pd.read_csv(\"Reviews.csv\")"
   ]
  },
  {
   "cell_type": "code",
   "execution_count": 3,
   "metadata": {},
   "outputs": [
    {
     "data": {
      "text/html": [
       "<div>\n",
       "<style scoped>\n",
       "    .dataframe tbody tr th:only-of-type {\n",
       "        vertical-align: middle;\n",
       "    }\n",
       "\n",
       "    .dataframe tbody tr th {\n",
       "        vertical-align: top;\n",
       "    }\n",
       "\n",
       "    .dataframe thead th {\n",
       "        text-align: right;\n",
       "    }\n",
       "</style>\n",
       "<table border=\"1\" class=\"dataframe\">\n",
       "  <thead>\n",
       "    <tr style=\"text-align: right;\">\n",
       "      <th></th>\n",
       "      <th>Id</th>\n",
       "      <th>ProductId</th>\n",
       "      <th>UserId</th>\n",
       "      <th>ProfileName</th>\n",
       "      <th>HelpfulnessNumerator</th>\n",
       "      <th>HelpfulnessDenominator</th>\n",
       "      <th>Score</th>\n",
       "      <th>Time</th>\n",
       "      <th>Summary</th>\n",
       "      <th>Text</th>\n",
       "    </tr>\n",
       "  </thead>\n",
       "  <tbody>\n",
       "    <tr>\n",
       "      <th>0</th>\n",
       "      <td>1</td>\n",
       "      <td>B001E4KFG0</td>\n",
       "      <td>A3SGXH7AUHU8GW</td>\n",
       "      <td>delmartian</td>\n",
       "      <td>1</td>\n",
       "      <td>1</td>\n",
       "      <td>5</td>\n",
       "      <td>1303862400</td>\n",
       "      <td>Good Quality Dog Food</td>\n",
       "      <td>I have bought several of the Vitality canned d...</td>\n",
       "    </tr>\n",
       "    <tr>\n",
       "      <th>1</th>\n",
       "      <td>2</td>\n",
       "      <td>B00813GRG4</td>\n",
       "      <td>A1D87F6ZCVE5NK</td>\n",
       "      <td>dll pa</td>\n",
       "      <td>0</td>\n",
       "      <td>0</td>\n",
       "      <td>1</td>\n",
       "      <td>1346976000</td>\n",
       "      <td>Not as Advertised</td>\n",
       "      <td>Product arrived labeled as Jumbo Salted Peanut...</td>\n",
       "    </tr>\n",
       "    <tr>\n",
       "      <th>2</th>\n",
       "      <td>3</td>\n",
       "      <td>B000LQOCH0</td>\n",
       "      <td>ABXLMWJIXXAIN</td>\n",
       "      <td>Natalia Corres \"Natalia Corres\"</td>\n",
       "      <td>1</td>\n",
       "      <td>1</td>\n",
       "      <td>4</td>\n",
       "      <td>1219017600</td>\n",
       "      <td>\"Delight\" says it all</td>\n",
       "      <td>This is a confection that has been around a fe...</td>\n",
       "    </tr>\n",
       "    <tr>\n",
       "      <th>3</th>\n",
       "      <td>4</td>\n",
       "      <td>B000UA0QIQ</td>\n",
       "      <td>A395BORC6FGVXV</td>\n",
       "      <td>Karl</td>\n",
       "      <td>3</td>\n",
       "      <td>3</td>\n",
       "      <td>2</td>\n",
       "      <td>1307923200</td>\n",
       "      <td>Cough Medicine</td>\n",
       "      <td>If you are looking for the secret ingredient i...</td>\n",
       "    </tr>\n",
       "    <tr>\n",
       "      <th>4</th>\n",
       "      <td>5</td>\n",
       "      <td>B006K2ZZ7K</td>\n",
       "      <td>A1UQRSCLF8GW1T</td>\n",
       "      <td>Michael D. Bigham \"M. Wassir\"</td>\n",
       "      <td>0</td>\n",
       "      <td>0</td>\n",
       "      <td>5</td>\n",
       "      <td>1350777600</td>\n",
       "      <td>Great taffy</td>\n",
       "      <td>Great taffy at a great price.  There was a wid...</td>\n",
       "    </tr>\n",
       "  </tbody>\n",
       "</table>\n",
       "</div>"
      ],
      "text/plain": [
       "   Id   ProductId          UserId                      ProfileName  \\\n",
       "0   1  B001E4KFG0  A3SGXH7AUHU8GW                       delmartian   \n",
       "1   2  B00813GRG4  A1D87F6ZCVE5NK                           dll pa   \n",
       "2   3  B000LQOCH0   ABXLMWJIXXAIN  Natalia Corres \"Natalia Corres\"   \n",
       "3   4  B000UA0QIQ  A395BORC6FGVXV                             Karl   \n",
       "4   5  B006K2ZZ7K  A1UQRSCLF8GW1T    Michael D. Bigham \"M. Wassir\"   \n",
       "\n",
       "   HelpfulnessNumerator  HelpfulnessDenominator  Score        Time  \\\n",
       "0                     1                       1      5  1303862400   \n",
       "1                     0                       0      1  1346976000   \n",
       "2                     1                       1      4  1219017600   \n",
       "3                     3                       3      2  1307923200   \n",
       "4                     0                       0      5  1350777600   \n",
       "\n",
       "                 Summary                                               Text  \n",
       "0  Good Quality Dog Food  I have bought several of the Vitality canned d...  \n",
       "1      Not as Advertised  Product arrived labeled as Jumbo Salted Peanut...  \n",
       "2  \"Delight\" says it all  This is a confection that has been around a fe...  \n",
       "3         Cough Medicine  If you are looking for the secret ingredient i...  \n",
       "4            Great taffy  Great taffy at a great price.  There was a wid...  "
      ]
     },
     "execution_count": 3,
     "metadata": {},
     "output_type": "execute_result"
    }
   ],
   "source": [
    "df.head()"
   ]
  },
  {
   "cell_type": "code",
   "execution_count": 4,
   "metadata": {},
   "outputs": [],
   "source": [
    "df = df.head(500)"
   ]
  },
  {
   "cell_type": "code",
   "execution_count": 7,
   "metadata": {},
   "outputs": [
    {
     "data": {
      "image/png": "[encoded data removed]",
      "text/plain": [
       "<Figure size 1000x500 with 1 Axes>"
      ]
     },
     "metadata": {},
     "output_type": "display_data"
    }
   ],
   "source": [
    "ax = df['Score'].value_counts().sort_index().plot(kind='bar' ,title='Count of Reviews by Star', figsize=(10,5))\n",
    "ax.set_xlabel('Review Star')\n",
    "plt.show()"
   ]
  },
  {
   "cell_type": "code",
   "execution_count": 8,
   "metadata": {},
   "outputs": [
    {
     "name": "stdout",
     "output_type": "stream",
     "text": [
      "I have never been a huge coffee fan. However, my mother purchased this little machine and talked me into trying the Latte Macciato. No Coffee Shop has a better one and I like most of the other products, too (as a usually non-coffee drinker!).<br />The little Dolche Guesto Machine is super easy to use and prepares a really good Coffee/Latte/Cappuccino/etc in less than a minute (if water is heated up). I would recommend the Dolce Gusto to anyone. Too good for the price and I'am getting one myself! :)\n"
     ]
    }
   ],
   "source": [
    "example = df['Text'][30]\n",
    "print(example)"
   ]
  },
  {
   "cell_type": "code",
   "execution_count": 13,
   "metadata": {},
   "outputs": [
    {
     "name": "stdout",
     "output_type": "stream",
     "text": [
      "['I', 'have', 'never', 'been', 'a', 'huge', 'coffee', 'fan', '.', 'However', ',', 'my', 'mother', 'purchased', 'this', 'little', 'machine', 'and', 'talked', 'me', 'into', 'trying', 'the', 'Latte', 'Macciato', '.', 'No', 'Coffee', 'Shop', 'has', 'a', 'better', 'one', 'and', 'I', 'like', 'most', 'of', 'the', 'other', 'products', ',', 'too', '(', 'as', 'a', 'usually', 'non-coffee', 'drinker', '!', ')', '.', '<', 'br', '/', '>', 'The', 'little', 'Dolche', 'Guesto', 'Machine', 'is', 'super', 'easy', 'to', 'use', 'and', 'prepares', 'a', 'really', 'good', 'Coffee/Latte/Cappuccino/etc', 'in', 'less', 'than', 'a', 'minute', '(', 'if', 'water', 'is', 'heated', 'up', ')', '.', 'I', 'would', 'recommend', 'the', 'Dolce', 'Gusto', 'to', 'anyone', '.', 'Too', 'good', 'for', 'the', 'price', 'and', \"I'am\", 'getting', 'one', 'myself', '!', ':', ')']\n"
     ]
    }
   ],
   "source": [
    "token = nltk.word_tokenize(example)\n",
    "print(token)"
   ]
  },
  {
   "cell_type": "code",
   "execution_count": 18,
   "metadata": {},
   "outputs": [],
   "source": [
    "tagged = nltk.pos_tag(token)"
   ]
  },
  {
   "cell_type": "code",
   "execution_count": 22,
   "metadata": {},
   "outputs": [
    {
     "name": "stdout",
     "output_type": "stream",
     "text": [
      "(S\n",
      "  I/PRP\n",
      "  have/VBP\n",
      "  never/RB\n",
      "  been/VBN\n",
      "  a/DT\n",
      "  huge/JJ\n",
      "  coffee/NN\n",
      "  fan/NN\n",
      "  ./.\n",
      "  However/RB\n",
      "  ,/,\n",
      "  my/PRP$\n",
      "  mother/NN\n",
      "  purchased/VBD\n",
      "  this/DT\n",
      "  little/JJ\n",
      "  machine/NN\n",
      "  and/CC\n",
      "  talked/VBD\n",
      "  me/PRP\n",
      "  into/IN\n",
      "  trying/VBG\n",
      "  the/DT\n",
      "  (ORGANIZATION Latte/NNP Macciato/NNP)\n",
      "  ./.\n",
      "  (PERSON No/NNP Coffee/NNP Shop/NNP)\n",
      "  has/VBZ\n",
      "  a/DT\n",
      "  better/JJR\n",
      "  one/CD\n",
      "  and/CC\n",
      "  I/PRP\n",
      "  like/VBP\n",
      "  most/JJS\n",
      "  of/IN\n",
      "  the/DT\n",
      "  other/JJ\n",
      "  products/NNS\n",
      "  ,/,\n",
      "  too/RB\n",
      "  (/(\n",
      "  as/IN\n",
      "  a/DT\n",
      "  usually/RB\n",
      "  non-coffee/JJ\n",
      "  drinker/NN\n",
      "  !/.\n",
      "  )/)\n",
      "  ./.\n",
      "  </JJ\n",
      "  br/NN\n",
      "  //NNP\n",
      "  >/VBZ\n",
      "  The/DT\n",
      "  little/JJ\n",
      "  (PERSON Dolche/NNP Guesto/NNP Machine/NNP)\n",
      "  is/VBZ\n",
      "  super/JJ\n",
      "  easy/JJ\n",
      "  to/TO\n",
      "  use/VB\n",
      "  and/CC\n",
      "  prepares/VBZ\n",
      "  a/DT\n",
      "  really/RB\n",
      "  good/JJ\n",
      "  Coffee/Latte/Cappuccino/etc/NNP\n",
      "  in/IN\n",
      "  less/JJR\n",
      "  than/IN\n",
      "  a/DT\n",
      "  minute/NN\n",
      "  (/(\n",
      "  if/IN\n",
      "  water/NN\n",
      "  is/VBZ\n",
      "  heated/VBN\n",
      "  up/RP\n",
      "  )/)\n",
      "  ./.\n",
      "  I/PRP\n",
      "  would/MD\n",
      "  recommend/VB\n",
      "  the/DT\n",
      "  (ORGANIZATION Dolce/NNP Gusto/NNP)\n",
      "  to/TO\n",
      "  anyone/NN\n",
      "  ./.\n",
      "  Too/NNP\n",
      "  good/JJ\n",
      "  for/IN\n",
      "  the/DT\n",
      "  price/NN\n",
      "  and/CC\n",
      "  I'am/NNP\n",
      "  getting/VBG\n",
      "  one/CD\n",
      "  myself/NN\n",
      "  !/.\n",
      "  :/:\n",
      "  )/))\n"
     ]
    }
   ],
   "source": [
    "entities = nltk.chunk.ne_chunk(tagged)\n",
    "print(entities)"
   ]
  },
  {
   "cell_type": "code",
   "execution_count": 24,
   "metadata": {},
   "outputs": [
    {
     "name": "stderr",
     "output_type": "stream",
     "text": [
      "[nltk_data] Downloading package vader_lexicon to\n",
      "[nltk_data]     C:\\Users\\KHUSHI\\AppData\\Roaming\\nltk_data...\n"
     ]
    },
    {
     "data": {
      "text/plain": [
       "True"
      ]
     },
     "execution_count": 24,
     "metadata": {},
     "output_type": "execute_result"
    }
   ],
   "source": [
    "nltk.download('vader_lexicon')"
   ]
  },
  {
   "cell_type": "code",
   "execution_count": 25,
   "metadata": {},
   "outputs": [],
   "source": [
    "#VADER Sentiment Scoring\n",
    "from nltk.sentiment import SentimentIntensityAnalyzer\n",
    "from tqdm.notebook import tqdm\n",
    "sia = SentimentIntensityAnalyzer()"
   ]
  },
  {
   "cell_type": "code",
   "execution_count": 26,
   "metadata": {},
   "outputs": [
    {
     "data": {
      "text/plain": [
       "{'neg': 0.545, 'neu': 0.455, 'pos': 0.0, 'compound': -0.3384}"
      ]
     },
     "execution_count": 26,
     "metadata": {},
     "output_type": "execute_result"
    }
   ],
   "source": [
    "sia.polarity_scores('I am so bored')"
   ]
  },
  {
   "cell_type": "code",
   "execution_count": 29,
   "metadata": {},
   "outputs": [
    {
     "name": "stderr",
     "output_type": "stream",
     "text": [
      "\n",
      "\u001b[A\n",
      "\u001b[A\n",
      "\u001b[A\n",
      "\u001b[A\n",
      "\u001b[A\n",
      "\u001b[A\n",
      "100%|██████████| 500/500 [00:00<00:00, 683.21it/s]\n"
     ]
    }
   ],
   "source": [
    "#Run the Polarity score in entire dataset\n",
    "from tqdm import tqdm\n",
    "\n",
    "res = {}\n",
    "\n",
    "for i , row in tqdm(df.iterrows() , total=len(df)):\n",
    "    text = row['Text']\n",
    "    myid = row['Id']\n",
    "    res[myid] = sia.polarity_scores(text)"
   ]
  },
  {
   "cell_type": "code",
   "execution_count": 34,
   "metadata": {},
   "outputs": [],
   "source": [
    "vaders = pd.DataFrame(res).T\n",
    "vaders = vaders.reset_index().rename(columns={'index':'id'})\n",
    "vaders = vaders.merge(df, how='left', left_on='id', right_on='Id')"
   ]
  },
  {
   "cell_type": "code",
   "execution_count": 35,
   "metadata": {},
   "outputs": [
    {
     "data": {
      "text/html": [
       "<div>\n",
       "<style scoped>\n",
       "    .dataframe tbody tr th:only-of-type {\n",
       "        vertical-align: middle;\n",
       "    }\n",
       "\n",
       "    .dataframe tbody tr th {\n",
       "        vertical-align: top;\n",
       "    }\n",
       "\n",
       "    .dataframe thead th {\n",
       "        text-align: right;\n",
       "    }\n",
       "</style>\n",
       "<table border=\"1\" class=\"dataframe\">\n",
       "  <thead>\n",
       "    <tr style=\"text-align: right;\">\n",
       "      <th></th>\n",
       "      <th>id</th>\n",
       "      <th>neg</th>\n",
       "      <th>neu</th>\n",
       "      <th>pos</th>\n",
       "      <th>compound</th>\n",
       "      <th>Id</th>\n",
       "      <th>ProductId</th>\n",
       "      <th>UserId</th>\n",
       "      <th>ProfileName</th>\n",
       "      <th>HelpfulnessNumerator</th>\n",
       "      <th>HelpfulnessDenominator</th>\n",
       "      <th>Score</th>\n",
       "      <th>Time</th>\n",
       "      <th>Summary</th>\n",
       "      <th>Text</th>\n",
       "    </tr>\n",
       "  </thead>\n",
       "  <tbody>\n",
       "    <tr>\n",
       "      <th>0</th>\n",
       "      <td>1</td>\n",
       "      <td>0.000</td>\n",
       "      <td>0.695</td>\n",
       "      <td>0.305</td>\n",
       "      <td>0.9441</td>\n",
       "      <td>1</td>\n",
       "      <td>B001E4KFG0</td>\n",
       "      <td>A3SGXH7AUHU8GW</td>\n",
       "      <td>delmartian</td>\n",
       "      <td>1</td>\n",
       "      <td>1</td>\n",
       "      <td>5</td>\n",
       "      <td>1303862400</td>\n",
       "      <td>Good Quality Dog Food</td>\n",
       "      <td>I have bought several of the Vitality canned d...</td>\n",
       "    </tr>\n",
       "    <tr>\n",
       "      <th>1</th>\n",
       "      <td>2</td>\n",
       "      <td>0.138</td>\n",
       "      <td>0.862</td>\n",
       "      <td>0.000</td>\n",
       "      <td>-0.5664</td>\n",
       "      <td>2</td>\n",
       "      <td>B00813GRG4</td>\n",
       "      <td>A1D87F6ZCVE5NK</td>\n",
       "      <td>dll pa</td>\n",
       "      <td>0</td>\n",
       "      <td>0</td>\n",
       "      <td>1</td>\n",
       "      <td>1346976000</td>\n",
       "      <td>Not as Advertised</td>\n",
       "      <td>Product arrived labeled as Jumbo Salted Peanut...</td>\n",
       "    </tr>\n",
       "    <tr>\n",
       "      <th>2</th>\n",
       "      <td>3</td>\n",
       "      <td>0.091</td>\n",
       "      <td>0.754</td>\n",
       "      <td>0.155</td>\n",
       "      <td>0.8265</td>\n",
       "      <td>3</td>\n",
       "      <td>B000LQOCH0</td>\n",
       "      <td>ABXLMWJIXXAIN</td>\n",
       "      <td>Natalia Corres \"Natalia Corres\"</td>\n",
       "      <td>1</td>\n",
       "      <td>1</td>\n",
       "      <td>4</td>\n",
       "      <td>1219017600</td>\n",
       "      <td>\"Delight\" says it all</td>\n",
       "      <td>This is a confection that has been around a fe...</td>\n",
       "    </tr>\n",
       "    <tr>\n",
       "      <th>3</th>\n",
       "      <td>4</td>\n",
       "      <td>0.000</td>\n",
       "      <td>1.000</td>\n",
       "      <td>0.000</td>\n",
       "      <td>0.0000</td>\n",
       "      <td>4</td>\n",
       "      <td>B000UA0QIQ</td>\n",
       "      <td>A395BORC6FGVXV</td>\n",
       "      <td>Karl</td>\n",
       "      <td>3</td>\n",
       "      <td>3</td>\n",
       "      <td>2</td>\n",
       "      <td>1307923200</td>\n",
       "      <td>Cough Medicine</td>\n",
       "      <td>If you are looking for the secret ingredient i...</td>\n",
       "    </tr>\n",
       "    <tr>\n",
       "      <th>4</th>\n",
       "      <td>5</td>\n",
       "      <td>0.000</td>\n",
       "      <td>0.552</td>\n",
       "      <td>0.448</td>\n",
       "      <td>0.9468</td>\n",
       "      <td>5</td>\n",
       "      <td>B006K2ZZ7K</td>\n",
       "      <td>A1UQRSCLF8GW1T</td>\n",
       "      <td>Michael D. Bigham \"M. Wassir\"</td>\n",
       "      <td>0</td>\n",
       "      <td>0</td>\n",
       "      <td>5</td>\n",
       "      <td>1350777600</td>\n",
       "      <td>Great taffy</td>\n",
       "      <td>Great taffy at a great price.  There was a wid...</td>\n",
       "    </tr>\n",
       "    <tr>\n",
       "      <th>...</th>\n",
       "      <td>...</td>\n",
       "      <td>...</td>\n",
       "      <td>...</td>\n",
       "      <td>...</td>\n",
       "      <td>...</td>\n",
       "      <td>...</td>\n",
       "      <td>...</td>\n",
       "      <td>...</td>\n",
       "      <td>...</td>\n",
       "      <td>...</td>\n",
       "      <td>...</td>\n",
       "      <td>...</td>\n",
       "      <td>...</td>\n",
       "      <td>...</td>\n",
       "      <td>...</td>\n",
       "    </tr>\n",
       "    <tr>\n",
       "      <th>495</th>\n",
       "      <td>496</td>\n",
       "      <td>0.000</td>\n",
       "      <td>0.554</td>\n",
       "      <td>0.446</td>\n",
       "      <td>0.9725</td>\n",
       "      <td>496</td>\n",
       "      <td>B000G6RYNE</td>\n",
       "      <td>APGAA43E3WPN7</td>\n",
       "      <td>Darren</td>\n",
       "      <td>0</td>\n",
       "      <td>0</td>\n",
       "      <td>5</td>\n",
       "      <td>1201392000</td>\n",
       "      <td>amazing chips</td>\n",
       "      <td>i rarely eat chips but i saw these and tried t...</td>\n",
       "    </tr>\n",
       "    <tr>\n",
       "      <th>496</th>\n",
       "      <td>497</td>\n",
       "      <td>0.059</td>\n",
       "      <td>0.799</td>\n",
       "      <td>0.142</td>\n",
       "      <td>0.7833</td>\n",
       "      <td>497</td>\n",
       "      <td>B000G6RYNE</td>\n",
       "      <td>ABR7HU5H1KNE</td>\n",
       "      <td>Keith</td>\n",
       "      <td>0</td>\n",
       "      <td>0</td>\n",
       "      <td>5</td>\n",
       "      <td>1196726400</td>\n",
       "      <td>Best Chip Ever</td>\n",
       "      <td>This is easily the best potato chip that I hav...</td>\n",
       "    </tr>\n",
       "    <tr>\n",
       "      <th>497</th>\n",
       "      <td>498</td>\n",
       "      <td>0.025</td>\n",
       "      <td>0.762</td>\n",
       "      <td>0.212</td>\n",
       "      <td>0.9848</td>\n",
       "      <td>498</td>\n",
       "      <td>B000G6RYNE</td>\n",
       "      <td>AJQD2WWJYOYFQ</td>\n",
       "      <td>bubbles</td>\n",
       "      <td>0</td>\n",
       "      <td>0</td>\n",
       "      <td>4</td>\n",
       "      <td>1186617600</td>\n",
       "      <td>Tangy, spicy, and sweet- oh my!</td>\n",
       "      <td>Kettle Chips Spicy Thai potato chips have the ...</td>\n",
       "    </tr>\n",
       "    <tr>\n",
       "      <th>498</th>\n",
       "      <td>499</td>\n",
       "      <td>0.041</td>\n",
       "      <td>0.904</td>\n",
       "      <td>0.055</td>\n",
       "      <td>0.1280</td>\n",
       "      <td>499</td>\n",
       "      <td>B000G6RYNE</td>\n",
       "      <td>A16YH487W9ZYO0</td>\n",
       "      <td>Bruce G. Lindsay</td>\n",
       "      <td>0</td>\n",
       "      <td>0</td>\n",
       "      <td>4</td>\n",
       "      <td>1184198400</td>\n",
       "      <td>An indulgence with a bite</td>\n",
       "      <td>Okay, I should not eat potato chips, nor shoul...</td>\n",
       "    </tr>\n",
       "    <tr>\n",
       "      <th>499</th>\n",
       "      <td>500</td>\n",
       "      <td>0.000</td>\n",
       "      <td>0.678</td>\n",
       "      <td>0.322</td>\n",
       "      <td>0.9811</td>\n",
       "      <td>500</td>\n",
       "      <td>B000G6RYNE</td>\n",
       "      <td>A83YQC1XOU4CS</td>\n",
       "      <td>J. Baker</td>\n",
       "      <td>0</td>\n",
       "      <td>0</td>\n",
       "      <td>5</td>\n",
       "      <td>1183420800</td>\n",
       "      <td>The best I've had</td>\n",
       "      <td>I don't write very many reviews but I have to ...</td>\n",
       "    </tr>\n",
       "  </tbody>\n",
       "</table>\n",
       "<p>500 rows × 15 columns</p>\n",
       "</div>"
      ],
      "text/plain": [
       "      id    neg    neu    pos  compound   Id   ProductId          UserId  \\\n",
       "0      1  0.000  0.695  0.305    0.9441    1  B001E4KFG0  A3SGXH7AUHU8GW   \n",
       "1      2  0.138  0.862  0.000   -0.5664    2  B00813GRG4  A1D87F6ZCVE5NK   \n",
       "2      3  0.091  0.754  0.155    0.8265    3  B000LQOCH0   ABXLMWJIXXAIN   \n",
       "3      4  0.000  1.000  0.000    0.0000    4  B000UA0QIQ  A395BORC6FGVXV   \n",
       "4      5  0.000  0.552  0.448    0.9468    5  B006K2ZZ7K  A1UQRSCLF8GW1T   \n",
       "..   ...    ...    ...    ...       ...  ...         ...             ...   \n",
       "495  496  0.000  0.554  0.446    0.9725  496  B000G6RYNE   APGAA43E3WPN7   \n",
       "496  497  0.059  0.799  0.142    0.7833  497  B000G6RYNE    ABR7HU5H1KNE   \n",
       "497  498  0.025  0.762  0.212    0.9848  498  B000G6RYNE   AJQD2WWJYOYFQ   \n",
       "498  499  0.041  0.904  0.055    0.1280  499  B000G6RYNE  A16YH487W9ZYO0   \n",
       "499  500  0.000  0.678  0.322    0.9811  500  B000G6RYNE   A83YQC1XOU4CS   \n",
       "\n",
       "                         ProfileName  HelpfulnessNumerator  \\\n",
       "0                         delmartian                     1   \n",
       "1                             dll pa                     0   \n",
       "2    Natalia Corres \"Natalia Corres\"                     1   \n",
       "3                               Karl                     3   \n",
       "4      Michael D. Bigham \"M. Wassir\"                     0   \n",
       "..                               ...                   ...   \n",
       "495                           Darren                     0   \n",
       "496                            Keith                     0   \n",
       "497                          bubbles                     0   \n",
       "498                 Bruce G. Lindsay                     0   \n",
       "499                         J. Baker                     0   \n",
       "\n",
       "     HelpfulnessDenominator  Score        Time  \\\n",
       "0                         1      5  1303862400   \n",
       "1                         0      1  1346976000   \n",
       "2                         1      4  1219017600   \n",
       "3                         3      2  1307923200   \n",
       "4                         0      5  1350777600   \n",
       "..                      ...    ...         ...   \n",
       "495                       0      5  1201392000   \n",
       "496                       0      5  1196726400   \n",
       "497                       0      4  1186617600   \n",
       "498                       0      4  1184198400   \n",
       "499                       0      5  1183420800   \n",
       "\n",
       "                             Summary  \\\n",
       "0              Good Quality Dog Food   \n",
       "1                  Not as Advertised   \n",
       "2              \"Delight\" says it all   \n",
       "3                     Cough Medicine   \n",
       "4                        Great taffy   \n",
       "..                               ...   \n",
       "495                    amazing chips   \n",
       "496                   Best Chip Ever   \n",
       "497  Tangy, spicy, and sweet- oh my!   \n",
       "498        An indulgence with a bite   \n",
       "499                The best I've had   \n",
       "\n",
       "                                                  Text  \n",
       "0    I have bought several of the Vitality canned d...  \n",
       "1    Product arrived labeled as Jumbo Salted Peanut...  \n",
       "2    This is a confection that has been around a fe...  \n",
       "3    If you are looking for the secret ingredient i...  \n",
       "4    Great taffy at a great price.  There was a wid...  \n",
       "..                                                 ...  \n",
       "495  i rarely eat chips but i saw these and tried t...  \n",
       "496  This is easily the best potato chip that I hav...  \n",
       "497  Kettle Chips Spicy Thai potato chips have the ...  \n",
       "498  Okay, I should not eat potato chips, nor shoul...  \n",
       "499  I don't write very many reviews but I have to ...  \n",
       "\n",
       "[500 rows x 15 columns]"
      ]
     },
     "execution_count": 35,
     "metadata": {},
     "output_type": "execute_result"
    }
   ],
   "source": [
    "vaders"
   ]
  },
  {
   "cell_type": "code",
   "execution_count": 36,
   "metadata": {},
   "outputs": [
    {
     "ename": "TypeError",
     "evalue": "'Text' object is not callable",
     "output_type": "error",
     "traceback": [
      "\u001b[1;31m---------------------------------------------------------------------------\u001b[0m",
      "\u001b[1;31mTypeError\u001b[0m                                 Traceback (most recent call last)",
      "Cell \u001b[1;32mIn[36], line 2\u001b[0m\n\u001b[0;32m      1\u001b[0m ax \u001b[38;5;241m=\u001b[39m sns\u001b[38;5;241m.\u001b[39mbarplot(data\u001b[38;5;241m=\u001b[39mvaders,x\u001b[38;5;241m=\u001b[39m\u001b[38;5;124m'\u001b[39m\u001b[38;5;124mScore\u001b[39m\u001b[38;5;124m'\u001b[39m,y\u001b[38;5;241m=\u001b[39m\u001b[38;5;124m'\u001b[39m\u001b[38;5;124mcompound\u001b[39m\u001b[38;5;124m'\u001b[39m)\n\u001b[1;32m----> 2\u001b[0m \u001b[43max\u001b[49m\u001b[38;5;241;43m.\u001b[39;49m\u001b[43mtitle\u001b[49m\u001b[43m(\u001b[49m\u001b[38;5;124;43m'\u001b[39;49m\u001b[38;5;124;43mCompound Score by Amazon Reviews\u001b[39;49m\u001b[38;5;124;43m'\u001b[39;49m\u001b[43m)\u001b[49m\n\u001b[0;32m      3\u001b[0m plt\u001b[38;5;241m.\u001b[39mshow()\n",
      "\u001b[1;31mTypeError\u001b[0m: 'Text' object is not callable"
     ]
    },
    {
     "data": {
      "image/png": "[encoded data removed]",
      "text/plain": [
       "<Figure size 640x480 with 1 Axes>"
      ]
     },
     "metadata": {},
     "output_type": "display_data"
    }
   ],
   "source": [
    "ax = sns.barplot(data=vaders,x='Score',y='compound')\n",
    "ax.title('Compound Score by Amazon Reviews')\n",
    "plt.show()"
   ]
  },
  {
   "cell_type": "code",
   "execution_count": 39,
   "metadata": {},
   "outputs": [
    {
     "data": {
      "image/png": "[encoded data removed]",
      "text/plain": [
       "<Figure size 1500x500 with 3 Axes>"
      ]
     },
     "metadata": {},
     "output_type": "display_data"
    }
   ],
   "source": [
    "import matplotlib.pyplot as plt\n",
    "import seaborn as sns\n",
    "\n",
    "# Create subplots\n",
    "fig, axs = plt.subplots(1, 3, figsize=(15, 5))\n",
    "\n",
    "# Plotting with Seaborn\n",
    "sns.barplot(data=vaders, x='Score', y='pos', ax=axs[0])\n",
    "axs[0].set_title('Positive Scores')\n",
    "\n",
    "sns.barplot(data=vaders, x='Score', y='neu', ax=axs[1])\n",
    "axs[1].set_title('Neutral Scores')\n",
    "\n",
    "sns.barplot(data=vaders, x='Score', y='neg', ax=axs[2])\n",
    "axs[2].set_title('Negative Scores')\n",
    "\n",
    "# Show the plot\n",
    "plt.tight_layout()\n",
    "plt.show()\n"
   ]
  },
  {
   "cell_type": "code",
   "execution_count": 45,
   "metadata": {},
   "outputs": [
    {
     "name": "stdout",
     "output_type": "stream",
     "text": [
      "2.4.1+cpu\n"
     ]
    }
   ],
   "source": [
    "#Roberta Pretrained Model\n",
    "import torch\n",
    "print(torch.__version__)\n",
    "from transformers import AutoTokenizer\n",
    "from transformers import AutoModelForSequenceClassification\n",
    "from scipy.special import softmax"
   ]
  },
  {
   "cell_type": "code",
   "execution_count": 51,
   "metadata": {},
   "outputs": [
    {
     "name": "stderr",
     "output_type": "stream",
     "text": [
      "c:\\Users\\KHUSHI\\AppData\\Local\\Programs\\Python\\Python312\\Lib\\site-packages\\huggingface_hub\\file_download.py:1132: FutureWarning: `resume_download` is deprecated and will be removed in version 1.0.0. Downloads always resume when possible. If you want to force a new download, use `force_download=True`.\n",
      "  warnings.warn(\n"
     ]
    },
    {
     "ename": "ImportError",
     "evalue": "\nAutoModelForSequenceClassification requires the PyTorch library but it was not found in your environment.\nHowever, we were able to find a TensorFlow installation. TensorFlow classes begin\nwith \"TF\", but are otherwise identically named to our PyTorch classes. This\nmeans that the TF equivalent of the class you tried to import would be \"TFAutoModelForSequenceClassification\".\nIf you want to use TensorFlow, please use TF classes instead!\n\nIf you really do want to use PyTorch please go to\nhttps://pytorch.org/get-started/locally/ and follow the instructions that\nmatch your environment.\n",
     "output_type": "error",
     "traceback": [
      "\u001b[1;31m---------------------------------------------------------------------------\u001b[0m",
      "\u001b[1;31mImportError\u001b[0m                               Traceback (most recent call last)",
      "Cell \u001b[1;32mIn[51], line 5\u001b[0m\n\u001b[0;32m      3\u001b[0m MODEL \u001b[38;5;241m=\u001b[39m \u001b[38;5;124m\"\u001b[39m\u001b[38;5;124mcardiffnlp/twitter-roberta-base-sentiment\u001b[39m\u001b[38;5;124m\"\u001b[39m\n\u001b[0;32m      4\u001b[0m tokenizer \u001b[38;5;241m=\u001b[39m AutoTokenizer\u001b[38;5;241m.\u001b[39mfrom_pretrained(MODEL)\n\u001b[1;32m----> 5\u001b[0m model \u001b[38;5;241m=\u001b[39m \u001b[43mAutoModelForSequenceClassification\u001b[49m\u001b[38;5;241;43m.\u001b[39;49m\u001b[43mfrom_pretrained\u001b[49m(MODEL)\n",
      "File \u001b[1;32mc:\\Users\\KHUSHI\\AppData\\Local\\Programs\\Python\\Python312\\Lib\\site-packages\\transformers\\utils\\import_utils.py:1475\u001b[0m, in \u001b[0;36mDummyObject.__getattribute__\u001b[1;34m(cls, key)\u001b[0m\n\u001b[0;32m   1473\u001b[0m \u001b[38;5;28;01mif\u001b[39;00m key\u001b[38;5;241m.\u001b[39mstartswith(\u001b[38;5;124m\"\u001b[39m\u001b[38;5;124m_\u001b[39m\u001b[38;5;124m\"\u001b[39m) \u001b[38;5;129;01mand\u001b[39;00m key \u001b[38;5;241m!=\u001b[39m \u001b[38;5;124m\"\u001b[39m\u001b[38;5;124m_from_config\u001b[39m\u001b[38;5;124m\"\u001b[39m:\n\u001b[0;32m   1474\u001b[0m     \u001b[38;5;28;01mreturn\u001b[39;00m \u001b[38;5;28msuper\u001b[39m()\u001b[38;5;241m.\u001b[39m\u001b[38;5;21m__getattribute__\u001b[39m(key)\n\u001b[1;32m-> 1475\u001b[0m \u001b[43mrequires_backends\u001b[49m\u001b[43m(\u001b[49m\u001b[38;5;28;43mcls\u001b[39;49m\u001b[43m,\u001b[49m\u001b[43m \u001b[49m\u001b[38;5;28;43mcls\u001b[39;49m\u001b[38;5;241;43m.\u001b[39;49m\u001b[43m_backends\u001b[49m\u001b[43m)\u001b[49m\n",
      "File \u001b[1;32mc:\\Users\\KHUSHI\\AppData\\Local\\Programs\\Python\\Python312\\Lib\\site-packages\\transformers\\utils\\import_utils.py:1454\u001b[0m, in \u001b[0;36mrequires_backends\u001b[1;34m(obj, backends)\u001b[0m\n\u001b[0;32m   1452\u001b[0m \u001b[38;5;66;03m# Raise an error for users who might not realize that classes without \"TF\" are torch-only\u001b[39;00m\n\u001b[0;32m   1453\u001b[0m \u001b[38;5;28;01mif\u001b[39;00m \u001b[38;5;124m\"\u001b[39m\u001b[38;5;124mtorch\u001b[39m\u001b[38;5;124m\"\u001b[39m \u001b[38;5;129;01min\u001b[39;00m backends \u001b[38;5;129;01mand\u001b[39;00m \u001b[38;5;124m\"\u001b[39m\u001b[38;5;124mtf\u001b[39m\u001b[38;5;124m\"\u001b[39m \u001b[38;5;129;01mnot\u001b[39;00m \u001b[38;5;129;01min\u001b[39;00m backends \u001b[38;5;129;01mand\u001b[39;00m \u001b[38;5;129;01mnot\u001b[39;00m is_torch_available() \u001b[38;5;129;01mand\u001b[39;00m is_tf_available():\n\u001b[1;32m-> 1454\u001b[0m     \u001b[38;5;28;01mraise\u001b[39;00m \u001b[38;5;167;01mImportError\u001b[39;00m(PYTORCH_IMPORT_ERROR_WITH_TF\u001b[38;5;241m.\u001b[39mformat(name))\n\u001b[0;32m   1456\u001b[0m \u001b[38;5;66;03m# Raise the inverse error for PyTorch users trying to load TF classes\u001b[39;00m\n\u001b[0;32m   1457\u001b[0m \u001b[38;5;28;01mif\u001b[39;00m \u001b[38;5;124m\"\u001b[39m\u001b[38;5;124mtf\u001b[39m\u001b[38;5;124m\"\u001b[39m \u001b[38;5;129;01min\u001b[39;00m backends \u001b[38;5;129;01mand\u001b[39;00m \u001b[38;5;124m\"\u001b[39m\u001b[38;5;124mtorch\u001b[39m\u001b[38;5;124m\"\u001b[39m \u001b[38;5;129;01mnot\u001b[39;00m \u001b[38;5;129;01min\u001b[39;00m backends \u001b[38;5;129;01mand\u001b[39;00m is_torch_available() \u001b[38;5;129;01mand\u001b[39;00m \u001b[38;5;129;01mnot\u001b[39;00m is_tf_available():\n",
      "\u001b[1;31mImportError\u001b[0m: \nAutoModelForSequenceClassification requires the PyTorch library but it was not found in your environment.\nHowever, we were able to find a TensorFlow installation. TensorFlow classes begin\nwith \"TF\", but are otherwise identically named to our PyTorch classes. This\nmeans that the TF equivalent of the class you tried to import would be \"TFAutoModelForSequenceClassification\".\nIf you want to use TensorFlow, please use TF classes instead!\n\nIf you really do want to use PyTorch please go to\nhttps://pytorch.org/get-started/locally/ and follow the instructions that\nmatch your environment.\n"
     ]
    }
   ],
   "source": [
    "from transformers import AutoTokenizer, AutoModelForSequenceClassification\n",
    "\n",
    "MODEL = \"cardiffnlp/twitter-roberta-base-sentiment\"\n",
    "tokenizer = AutoTokenizer.from_pretrained(MODEL)\n",
    "model = AutoModelForSequenceClassification.from_pretrained(MODEL)"
   ]
  },
  {
   "cell_type": "code",
   "execution_count": 52,
   "metadata": {},
   "outputs": [
    {
     "name": "stdout",
     "output_type": "stream",
     "text": [
      "WARNING:tensorflow:From c:\\Users\\KHUSHI\\AppData\\Local\\Programs\\Python\\Python312\\Lib\\site-packages\\tf_keras\\src\\losses.py:2976: The name tf.losses.sparse_softmax_cross_entropy is deprecated. Please use tf.compat.v1.losses.sparse_softmax_cross_entropy instead.\n",
      "\n"
     ]
    },
    {
     "ename": "RuntimeError",
     "evalue": "Failed to import transformers.models.roberta.modeling_tf_roberta because of the following error (look up to see its traceback):\nFailed to import transformers.generation.tf_utils because of the following error (look up to see its traceback):\ncannot import name 'add_model_info_to_custom_pipelines' from 'transformers.utils' (c:\\Users\\KHUSHI\\AppData\\Local\\Programs\\Python\\Python312\\Lib\\site-packages\\transformers\\utils\\__init__.py)",
     "output_type": "error",
     "traceback": [
      "\u001b[1;31m---------------------------------------------------------------------------\u001b[0m",
      "\u001b[1;31mImportError\u001b[0m                               Traceback (most recent call last)",
      "File \u001b[1;32mc:\\Users\\KHUSHI\\AppData\\Local\\Programs\\Python\\Python312\\Lib\\site-packages\\transformers\\utils\\import_utils.py:1535\u001b[0m, in \u001b[0;36m_get_module\u001b[1;34m(self, module_name)\u001b[0m\n\u001b[0;32m   1528\u001b[0m PRETTY_MIDI_IMPORT_ERROR \u001b[38;5;241m=\u001b[39m \u001b[38;5;124m\"\"\"\u001b[39m\n\u001b[0;32m   1529\u001b[0m \u001b[38;5;132;01m{0}\u001b[39;00m\u001b[38;5;124m requires thes pretty_midi library. But that was not found in your environment. You can install them with pip:\u001b[39m\n\u001b[0;32m   1530\u001b[0m \u001b[38;5;124m`pip install pretty_midi`\u001b[39m\n\u001b[0;32m   1531\u001b[0m \u001b[38;5;124mPlease note that you may need to restart your runtime after installation.\u001b[39m\n\u001b[0;32m   1532\u001b[0m \u001b[38;5;124m\"\"\"\u001b[39m\n\u001b[0;32m   1534\u001b[0m DECORD_IMPORT_ERROR \u001b[38;5;241m=\u001b[39m \u001b[38;5;124m\"\"\"\u001b[39m\n\u001b[1;32m-> 1535\u001b[0m \u001b[38;5;132;01m{0}\u001b[39;00m\u001b[38;5;124m requires the decord library but it was not found in your environment. You can install it with pip: `pip install\u001b[39m\n\u001b[0;32m   1536\u001b[0m \u001b[38;5;124mdecord`. Please note that you may need to restart your runtime after installation.\u001b[39m\n\u001b[0;32m   1537\u001b[0m \u001b[38;5;124m\"\"\"\u001b[39m\n\u001b[0;32m   1539\u001b[0m CYTHON_IMPORT_ERROR \u001b[38;5;241m=\u001b[39m \u001b[38;5;124m\"\"\"\u001b[39m\n\u001b[0;32m   1540\u001b[0m \u001b[38;5;132;01m{0}\u001b[39;00m\u001b[38;5;124m requires the Cython library but it was not found in your environment. You can install it with pip: `pip install\u001b[39m\n\u001b[0;32m   1541\u001b[0m \u001b[38;5;124mCython`. Please note that you may need to restart your runtime after installation.\u001b[39m\n\u001b[0;32m   1542\u001b[0m \u001b[38;5;124m\"\"\"\u001b[39m\n",
      "File \u001b[1;32mc:\\Users\\KHUSHI\\AppData\\Local\\Programs\\Python\\Python312\\Lib\\importlib\\__init__.py:90\u001b[0m, in \u001b[0;36mimport_module\u001b[1;34m(name, package)\u001b[0m\n\u001b[0;32m     89\u001b[0m         level \u001b[38;5;241m+\u001b[39m\u001b[38;5;241m=\u001b[39m \u001b[38;5;241m1\u001b[39m\n\u001b[1;32m---> 90\u001b[0m \u001b[38;5;28;01mreturn\u001b[39;00m \u001b[43m_bootstrap\u001b[49m\u001b[38;5;241;43m.\u001b[39;49m\u001b[43m_gcd_import\u001b[49m\u001b[43m(\u001b[49m\u001b[43mname\u001b[49m\u001b[43m[\u001b[49m\u001b[43mlevel\u001b[49m\u001b[43m:\u001b[49m\u001b[43m]\u001b[49m\u001b[43m,\u001b[49m\u001b[43m \u001b[49m\u001b[43mpackage\u001b[49m\u001b[43m,\u001b[49m\u001b[43m \u001b[49m\u001b[43mlevel\u001b[49m\u001b[43m)\u001b[49m\n",
      "File \u001b[1;32m<frozen importlib._bootstrap>:1387\u001b[0m, in \u001b[0;36m_gcd_import\u001b[1;34m(name, package, level)\u001b[0m\n",
      "File \u001b[1;32m<frozen importlib._bootstrap>:1360\u001b[0m, in \u001b[0;36m_find_and_load\u001b[1;34m(name, import_)\u001b[0m\n",
      "File \u001b[1;32m<frozen importlib._bootstrap>:1331\u001b[0m, in \u001b[0;36m_find_and_load_unlocked\u001b[1;34m(name, import_)\u001b[0m\n",
      "File \u001b[1;32m<frozen importlib._bootstrap>:935\u001b[0m, in \u001b[0;36m_load_unlocked\u001b[1;34m(spec)\u001b[0m\n",
      "File \u001b[1;32m<frozen importlib._bootstrap_external>:995\u001b[0m, in \u001b[0;36mexec_module\u001b[1;34m(self, module)\u001b[0m\n",
      "File \u001b[1;32m<frozen importlib._bootstrap>:488\u001b[0m, in \u001b[0;36m_call_with_frames_removed\u001b[1;34m(f, *args, **kwds)\u001b[0m\n",
      "File \u001b[1;32mc:\\Users\\KHUSHI\\AppData\\Local\\Programs\\Python\\Python312\\Lib\\site-packages\\transformers\\generation\\tf_utils.py:34\u001b[0m\n\u001b[0;32m     28\u001b[0m \u001b[38;5;28;01mfrom\u001b[39;00m \u001b[38;5;21;01m.\u001b[39;00m\u001b[38;5;21;01m.\u001b[39;00m\u001b[38;5;21;01mmodels\u001b[39;00m\u001b[38;5;21;01m.\u001b[39;00m\u001b[38;5;21;01mauto\u001b[39;00m \u001b[38;5;28;01mimport\u001b[39;00m (\n\u001b[0;32m     29\u001b[0m     TF_MODEL_FOR_CAUSAL_LM_MAPPING,\n\u001b[0;32m     30\u001b[0m     TF_MODEL_FOR_SEQ_TO_SEQ_CAUSAL_LM_MAPPING,\n\u001b[0;32m     31\u001b[0m     TF_MODEL_FOR_SPEECH_SEQ_2_SEQ_MAPPING,\n\u001b[0;32m     32\u001b[0m     TF_MODEL_FOR_VISION_2_SEQ_MAPPING,\n\u001b[0;32m     33\u001b[0m )\n\u001b[1;32m---> 34\u001b[0m \u001b[38;5;28;01mfrom\u001b[39;00m \u001b[38;5;21;01m.\u001b[39;00m\u001b[38;5;21;01m.\u001b[39;00m\u001b[38;5;21;01mtf_utils\u001b[39;00m \u001b[38;5;28;01mimport\u001b[39;00m shape_list, stable_softmax\n\u001b[0;32m     35\u001b[0m \u001b[38;5;28;01mfrom\u001b[39;00m \u001b[38;5;21;01m.\u001b[39;00m\u001b[38;5;21;01m.\u001b[39;00m\u001b[38;5;21;01mutils\u001b[39;00m \u001b[38;5;28;01mimport\u001b[39;00m ModelOutput, logging\n",
      "File \u001b[1;32mc:\\Users\\KHUSHI\\AppData\\Local\\Programs\\Python\\Python312\\Lib\\site-packages\\transformers\\tf_utils.py:20\u001b[0m\n\u001b[0;32m     18\u001b[0m \u001b[38;5;28;01mimport\u001b[39;00m \u001b[38;5;21;01mtensorflow\u001b[39;00m \u001b[38;5;28;01mas\u001b[39;00m \u001b[38;5;21;01mtf\u001b[39;00m\n\u001b[1;32m---> 20\u001b[0m \u001b[38;5;28;01mfrom\u001b[39;00m \u001b[38;5;21;01m.\u001b[39;00m\u001b[38;5;21;01mfeature_extraction_utils\u001b[39;00m \u001b[38;5;28;01mimport\u001b[39;00m BatchFeature\n\u001b[0;32m     21\u001b[0m \u001b[38;5;28;01mfrom\u001b[39;00m \u001b[38;5;21;01m.\u001b[39;00m\u001b[38;5;21;01mtokenization_utils_base\u001b[39;00m \u001b[38;5;28;01mimport\u001b[39;00m BatchEncoding\n",
      "File \u001b[1;32mc:\\Users\\KHUSHI\\AppData\\Local\\Programs\\Python\\Python312\\Lib\\site-packages\\transformers\\feature_extraction_utils.py:29\u001b[0m\n\u001b[0;32m     28\u001b[0m \u001b[38;5;28;01mfrom\u001b[39;00m \u001b[38;5;21;01m.\u001b[39;00m\u001b[38;5;21;01mdynamic_module_utils\u001b[39;00m \u001b[38;5;28;01mimport\u001b[39;00m custom_object_save\n\u001b[1;32m---> 29\u001b[0m \u001b[38;5;28;01mfrom\u001b[39;00m \u001b[38;5;21;01m.\u001b[39;00m\u001b[38;5;21;01mutils\u001b[39;00m \u001b[38;5;28;01mimport\u001b[39;00m (\n\u001b[0;32m     30\u001b[0m     FEATURE_EXTRACTOR_NAME,\n\u001b[0;32m     31\u001b[0m     PushToHubMixin,\n\u001b[0;32m     32\u001b[0m     TensorType,\n\u001b[0;32m     33\u001b[0m     add_model_info_to_auto_map,\n\u001b[0;32m     34\u001b[0m     add_model_info_to_custom_pipelines,\n\u001b[0;32m     35\u001b[0m     cached_file,\n\u001b[0;32m     36\u001b[0m     copy_func,\n\u001b[0;32m     37\u001b[0m     download_url,\n\u001b[0;32m     38\u001b[0m     is_flax_available,\n\u001b[0;32m     39\u001b[0m     is_jax_tensor,\n\u001b[0;32m     40\u001b[0m     is_numpy_array,\n\u001b[0;32m     41\u001b[0m     is_offline_mode,\n\u001b[0;32m     42\u001b[0m     is_remote_url,\n\u001b[0;32m     43\u001b[0m     is_tf_available,\n\u001b[0;32m     44\u001b[0m     is_torch_available,\n\u001b[0;32m     45\u001b[0m     is_torch_device,\n\u001b[0;32m     46\u001b[0m     is_torch_dtype,\n\u001b[0;32m     47\u001b[0m     logging,\n\u001b[0;32m     48\u001b[0m     requires_backends,\n\u001b[0;32m     49\u001b[0m )\n\u001b[0;32m     52\u001b[0m \u001b[38;5;28;01mif\u001b[39;00m TYPE_CHECKING:\n",
      "\u001b[1;31mImportError\u001b[0m: cannot import name 'add_model_info_to_custom_pipelines' from 'transformers.utils' (c:\\Users\\KHUSHI\\AppData\\Local\\Programs\\Python\\Python312\\Lib\\site-packages\\transformers\\utils\\__init__.py)",
      "\nThe above exception was the direct cause of the following exception:\n",
      "\u001b[1;31mRuntimeError\u001b[0m                              Traceback (most recent call last)",
      "File \u001b[1;32mc:\\Users\\KHUSHI\\AppData\\Local\\Programs\\Python\\Python312\\Lib\\site-packages\\transformers\\utils\\import_utils.py:1535\u001b[0m, in \u001b[0;36m_get_module\u001b[1;34m(self, module_name)\u001b[0m\n\u001b[0;32m   1528\u001b[0m PRETTY_MIDI_IMPORT_ERROR \u001b[38;5;241m=\u001b[39m \u001b[38;5;124m\"\"\"\u001b[39m\n\u001b[0;32m   1529\u001b[0m \u001b[38;5;132;01m{0}\u001b[39;00m\u001b[38;5;124m requires thes pretty_midi library. But that was not found in your environment. You can install them with pip:\u001b[39m\n\u001b[0;32m   1530\u001b[0m \u001b[38;5;124m`pip install pretty_midi`\u001b[39m\n\u001b[0;32m   1531\u001b[0m \u001b[38;5;124mPlease note that you may need to restart your runtime after installation.\u001b[39m\n\u001b[0;32m   1532\u001b[0m \u001b[38;5;124m\"\"\"\u001b[39m\n\u001b[0;32m   1534\u001b[0m DECORD_IMPORT_ERROR \u001b[38;5;241m=\u001b[39m \u001b[38;5;124m\"\"\"\u001b[39m\n\u001b[1;32m-> 1535\u001b[0m \u001b[38;5;132;01m{0}\u001b[39;00m\u001b[38;5;124m requires the decord library but it was not found in your environment. You can install it with pip: `pip install\u001b[39m\n\u001b[0;32m   1536\u001b[0m \u001b[38;5;124mdecord`. Please note that you may need to restart your runtime after installation.\u001b[39m\n\u001b[0;32m   1537\u001b[0m \u001b[38;5;124m\"\"\"\u001b[39m\n\u001b[0;32m   1539\u001b[0m CYTHON_IMPORT_ERROR \u001b[38;5;241m=\u001b[39m \u001b[38;5;124m\"\"\"\u001b[39m\n\u001b[0;32m   1540\u001b[0m \u001b[38;5;132;01m{0}\u001b[39;00m\u001b[38;5;124m requires the Cython library but it was not found in your environment. You can install it with pip: `pip install\u001b[39m\n\u001b[0;32m   1541\u001b[0m \u001b[38;5;124mCython`. Please note that you may need to restart your runtime after installation.\u001b[39m\n\u001b[0;32m   1542\u001b[0m \u001b[38;5;124m\"\"\"\u001b[39m\n",
      "File \u001b[1;32mc:\\Users\\KHUSHI\\AppData\\Local\\Programs\\Python\\Python312\\Lib\\importlib\\__init__.py:90\u001b[0m, in \u001b[0;36mimport_module\u001b[1;34m(name, package)\u001b[0m\n\u001b[0;32m     89\u001b[0m         level \u001b[38;5;241m+\u001b[39m\u001b[38;5;241m=\u001b[39m \u001b[38;5;241m1\u001b[39m\n\u001b[1;32m---> 90\u001b[0m \u001b[38;5;28;01mreturn\u001b[39;00m \u001b[43m_bootstrap\u001b[49m\u001b[38;5;241;43m.\u001b[39;49m\u001b[43m_gcd_import\u001b[49m\u001b[43m(\u001b[49m\u001b[43mname\u001b[49m\u001b[43m[\u001b[49m\u001b[43mlevel\u001b[49m\u001b[43m:\u001b[49m\u001b[43m]\u001b[49m\u001b[43m,\u001b[49m\u001b[43m \u001b[49m\u001b[43mpackage\u001b[49m\u001b[43m,\u001b[49m\u001b[43m \u001b[49m\u001b[43mlevel\u001b[49m\u001b[43m)\u001b[49m\n",
      "File \u001b[1;32m<frozen importlib._bootstrap>:1387\u001b[0m, in \u001b[0;36m_gcd_import\u001b[1;34m(name, package, level)\u001b[0m\n",
      "File \u001b[1;32m<frozen importlib._bootstrap>:1360\u001b[0m, in \u001b[0;36m_find_and_load\u001b[1;34m(name, import_)\u001b[0m\n",
      "File \u001b[1;32m<frozen importlib._bootstrap>:1331\u001b[0m, in \u001b[0;36m_find_and_load_unlocked\u001b[1;34m(name, import_)\u001b[0m\n",
      "File \u001b[1;32m<frozen importlib._bootstrap>:935\u001b[0m, in \u001b[0;36m_load_unlocked\u001b[1;34m(spec)\u001b[0m\n",
      "File \u001b[1;32m<frozen importlib._bootstrap_external>:995\u001b[0m, in \u001b[0;36mexec_module\u001b[1;34m(self, module)\u001b[0m\n",
      "File \u001b[1;32m<frozen importlib._bootstrap>:488\u001b[0m, in \u001b[0;36m_call_with_frames_removed\u001b[1;34m(f, *args, **kwds)\u001b[0m\n",
      "File \u001b[1;32mc:\\Users\\KHUSHI\\AppData\\Local\\Programs\\Python\\Python312\\Lib\\site-packages\\transformers\\models\\roberta\\modeling_tf_roberta.py:38\u001b[0m\n\u001b[0;32m     28\u001b[0m \u001b[38;5;28;01mfrom\u001b[39;00m \u001b[38;5;21;01m.\u001b[39;00m\u001b[38;5;21;01m.\u001b[39;00m\u001b[38;5;21;01m.\u001b[39;00m\u001b[38;5;21;01mmodeling_tf_outputs\u001b[39;00m \u001b[38;5;28;01mimport\u001b[39;00m (\n\u001b[0;32m     29\u001b[0m     TFBaseModelOutputWithPastAndCrossAttentions,\n\u001b[0;32m     30\u001b[0m     TFBaseModelOutputWithPoolingAndCrossAttentions,\n\u001b[1;32m   (...)\u001b[0m\n\u001b[0;32m     36\u001b[0m     TFTokenClassifierOutput,\n\u001b[0;32m     37\u001b[0m )\n\u001b[1;32m---> 38\u001b[0m \u001b[38;5;28;01mfrom\u001b[39;00m \u001b[38;5;21;01m.\u001b[39;00m\u001b[38;5;21;01m.\u001b[39;00m\u001b[38;5;21;01m.\u001b[39;00m\u001b[38;5;21;01mmodeling_tf_utils\u001b[39;00m \u001b[38;5;28;01mimport\u001b[39;00m (\n\u001b[0;32m     39\u001b[0m     TFCausalLanguageModelingLoss,\n\u001b[0;32m     40\u001b[0m     TFMaskedLanguageModelingLoss,\n\u001b[0;32m     41\u001b[0m     TFModelInputType,\n\u001b[0;32m     42\u001b[0m     TFMultipleChoiceLoss,\n\u001b[0;32m     43\u001b[0m     TFPreTrainedModel,\n\u001b[0;32m     44\u001b[0m     TFQuestionAnsweringLoss,\n\u001b[0;32m     45\u001b[0m     TFSequenceClassificationLoss,\n\u001b[0;32m     46\u001b[0m     TFTokenClassificationLoss,\n\u001b[0;32m     47\u001b[0m     get_initializer,\n\u001b[0;32m     48\u001b[0m     keras,\n\u001b[0;32m     49\u001b[0m     keras_serializable,\n\u001b[0;32m     50\u001b[0m     unpack_inputs,\n\u001b[0;32m     51\u001b[0m )\n\u001b[0;32m     52\u001b[0m \u001b[38;5;28;01mfrom\u001b[39;00m \u001b[38;5;21;01m.\u001b[39;00m\u001b[38;5;21;01m.\u001b[39;00m\u001b[38;5;21;01m.\u001b[39;00m\u001b[38;5;21;01mtf_utils\u001b[39;00m \u001b[38;5;28;01mimport\u001b[39;00m check_embeddings_within_bounds, shape_list, stable_softmax\n",
      "File \u001b[1;32mc:\\Users\\KHUSHI\\AppData\\Local\\Programs\\Python\\Python312\\Lib\\site-packages\\transformers\\modeling_tf_utils.py:41\u001b[0m\n\u001b[0;32m     40\u001b[0m \u001b[38;5;28;01mfrom\u001b[39;00m \u001b[38;5;21;01m.\u001b[39;00m\u001b[38;5;21;01mdynamic_module_utils\u001b[39;00m \u001b[38;5;28;01mimport\u001b[39;00m custom_object_save\n\u001b[1;32m---> 41\u001b[0m \u001b[38;5;28;01mfrom\u001b[39;00m \u001b[38;5;21;01m.\u001b[39;00m\u001b[38;5;21;01mgeneration\u001b[39;00m \u001b[38;5;28;01mimport\u001b[39;00m GenerationConfig, TFGenerationMixin\n\u001b[0;32m     42\u001b[0m \u001b[38;5;28;01mfrom\u001b[39;00m \u001b[38;5;21;01m.\u001b[39;00m\u001b[38;5;21;01mtf_utils\u001b[39;00m \u001b[38;5;28;01mimport\u001b[39;00m (\n\u001b[0;32m     43\u001b[0m     convert_batch_encoding,\n\u001b[0;32m     44\u001b[0m     expand_1d,\n\u001b[1;32m   (...)\u001b[0m\n\u001b[0;32m     47\u001b[0m     shape_list,\n\u001b[0;32m     48\u001b[0m )\n",
      "File \u001b[1;32m<frozen importlib._bootstrap>:1412\u001b[0m, in \u001b[0;36m_handle_fromlist\u001b[1;34m(module, fromlist, import_, recursive)\u001b[0m\n",
      "File \u001b[1;32mc:\\Users\\KHUSHI\\AppData\\Local\\Programs\\Python\\Python312\\Lib\\site-packages\\transformers\\utils\\import_utils.py:1525\u001b[0m, in \u001b[0;36m__getattr__\u001b[1;34m(self, name)\u001b[0m\n\u001b[0;32m   1520\u001b[0m \u001b[38;5;66;03m# docstyle-ignore\u001b[39;00m\n\u001b[0;32m   1521\u001b[0m LIBROSA_IMPORT_ERROR \u001b[38;5;241m=\u001b[39m \u001b[38;5;124m\"\"\"\u001b[39m\n\u001b[0;32m   1522\u001b[0m \u001b[38;5;132;01m{0}\u001b[39;00m\u001b[38;5;124m requires thes librosa library. But that was not found in your environment. You can install them with pip:\u001b[39m\n\u001b[0;32m   1523\u001b[0m \u001b[38;5;124m`pip install librosa`\u001b[39m\n\u001b[0;32m   1524\u001b[0m \u001b[38;5;124mPlease note that you may need to restart your runtime after installation.\u001b[39m\n\u001b[1;32m-> 1525\u001b[0m \u001b[38;5;124m\"\"\"\u001b[39m\n\u001b[0;32m   1527\u001b[0m \u001b[38;5;66;03m# docstyle-ignore\u001b[39;00m\n",
      "File \u001b[1;32mc:\\Users\\KHUSHI\\AppData\\Local\\Programs\\Python\\Python312\\Lib\\site-packages\\transformers\\utils\\import_utils.py:1537\u001b[0m, in \u001b[0;36m_get_module\u001b[1;34m(self, module_name)\u001b[0m\n\u001b[0;32m   1528\u001b[0m PRETTY_MIDI_IMPORT_ERROR \u001b[38;5;241m=\u001b[39m \u001b[38;5;124m\"\"\"\u001b[39m\n\u001b[0;32m   1529\u001b[0m \u001b[38;5;132;01m{0}\u001b[39;00m\u001b[38;5;124m requires thes pretty_midi library. But that was not found in your environment. You can install them with pip:\u001b[39m\n\u001b[0;32m   1530\u001b[0m \u001b[38;5;124m`pip install pretty_midi`\u001b[39m\n\u001b[0;32m   1531\u001b[0m \u001b[38;5;124mPlease note that you may need to restart your runtime after installation.\u001b[39m\n\u001b[0;32m   1532\u001b[0m \u001b[38;5;124m\"\"\"\u001b[39m\n\u001b[0;32m   1534\u001b[0m DECORD_IMPORT_ERROR \u001b[38;5;241m=\u001b[39m \u001b[38;5;124m\"\"\"\u001b[39m\n\u001b[0;32m   1535\u001b[0m \u001b[38;5;132;01m{0}\u001b[39;00m\u001b[38;5;124m requires the decord library but it was not found in your environment. You can install it with pip: `pip install\u001b[39m\n\u001b[0;32m   1536\u001b[0m \u001b[38;5;124mdecord`. Please note that you may need to restart your runtime after installation.\u001b[39m\n\u001b[1;32m-> 1537\u001b[0m \u001b[38;5;124m\"\"\"\u001b[39m\n\u001b[0;32m   1539\u001b[0m CYTHON_IMPORT_ERROR \u001b[38;5;241m=\u001b[39m \u001b[38;5;124m\"\"\"\u001b[39m\n\u001b[0;32m   1540\u001b[0m \u001b[38;5;132;01m{0}\u001b[39;00m\u001b[38;5;124m requires the Cython library but it was not found in your environment. You can install it with pip: `pip install\u001b[39m\n\u001b[0;32m   1541\u001b[0m \u001b[38;5;124mCython`. Please note that you may need to restart your runtime after installation.\u001b[39m\n\u001b[0;32m   1542\u001b[0m \u001b[38;5;124m\"\"\"\u001b[39m\n",
      "\u001b[1;31mRuntimeError\u001b[0m: Failed to import transformers.generation.tf_utils because of the following error (look up to see its traceback):\ncannot import name 'add_model_info_to_custom_pipelines' from 'transformers.utils' (c:\\Users\\KHUSHI\\AppData\\Local\\Programs\\Python\\Python312\\Lib\\site-packages\\transformers\\utils\\__init__.py)",
      "\nThe above exception was the direct cause of the following exception:\n",
      "\u001b[1;31mRuntimeError\u001b[0m                              Traceback (most recent call last)",
      "Cell \u001b[1;32mIn[52], line 5\u001b[0m\n\u001b[0;32m      3\u001b[0m MODEL \u001b[38;5;241m=\u001b[39m \u001b[38;5;124m\"\u001b[39m\u001b[38;5;124mcardiffnlp/twitter-roberta-base-sentiment\u001b[39m\u001b[38;5;124m\"\u001b[39m\n\u001b[0;32m      4\u001b[0m tokenizer \u001b[38;5;241m=\u001b[39m AutoTokenizer\u001b[38;5;241m.\u001b[39mfrom_pretrained(MODEL)\n\u001b[1;32m----> 5\u001b[0m model \u001b[38;5;241m=\u001b[39m \u001b[43mTFAutoModelForSequenceClassification\u001b[49m\u001b[38;5;241;43m.\u001b[39;49m\u001b[43mfrom_pretrained\u001b[49m\u001b[43m(\u001b[49m\u001b[43mMODEL\u001b[49m\u001b[43m)\u001b[49m\n",
      "File \u001b[1;32mc:\\Users\\KHUSHI\\AppData\\Local\\Programs\\Python\\Python312\\Lib\\site-packages\\transformers\\models\\auto\\auto_factory.py:562\u001b[0m, in \u001b[0;36mfrom_pretrained\u001b[1;34m(cls, pretrained_model_name_or_path, *model_args, **kwargs)\u001b[0m\n\u001b[0;32m    558\u001b[0m     model_class \u001b[38;5;241m=\u001b[39m add_generation_mixin_to_remote_model(model_class)\n\u001b[0;32m    559\u001b[0m     \u001b[38;5;28;01mreturn\u001b[39;00m model_class\u001b[38;5;241m.\u001b[39mfrom_pretrained(\n\u001b[0;32m    560\u001b[0m         pretrained_model_name_or_path, \u001b[38;5;241m*\u001b[39mmodel_args, config\u001b[38;5;241m=\u001b[39mconfig, \u001b[38;5;241m*\u001b[39m\u001b[38;5;241m*\u001b[39mhub_kwargs, \u001b[38;5;241m*\u001b[39m\u001b[38;5;241m*\u001b[39mkwargs\n\u001b[0;32m    561\u001b[0m     )\n\u001b[1;32m--> 562\u001b[0m \u001b[38;5;28;01melif\u001b[39;00m \u001b[38;5;28mtype\u001b[39m(config) \u001b[38;5;129;01min\u001b[39;00m \u001b[38;5;28mcls\u001b[39m\u001b[38;5;241m.\u001b[39m_model_mapping\u001b[38;5;241m.\u001b[39mkeys():\n\u001b[0;32m    563\u001b[0m     model_class \u001b[38;5;241m=\u001b[39m _get_model_class(config, \u001b[38;5;28mcls\u001b[39m\u001b[38;5;241m.\u001b[39m_model_mapping)\n\u001b[0;32m    564\u001b[0m     \u001b[38;5;28;01mreturn\u001b[39;00m model_class\u001b[38;5;241m.\u001b[39mfrom_pretrained(\n\u001b[0;32m    565\u001b[0m         pretrained_model_name_or_path, \u001b[38;5;241m*\u001b[39mmodel_args, config\u001b[38;5;241m=\u001b[39mconfig, \u001b[38;5;241m*\u001b[39m\u001b[38;5;241m*\u001b[39mhub_kwargs, \u001b[38;5;241m*\u001b[39m\u001b[38;5;241m*\u001b[39mkwargs\n\u001b[0;32m    566\u001b[0m     )\n",
      "File \u001b[1;32mc:\\Users\\KHUSHI\\AppData\\Local\\Programs\\Python\\Python312\\Lib\\site-packages\\transformers\\models\\auto\\auto_factory.py:383\u001b[0m, in \u001b[0;36m_get_model_class\u001b[1;34m(config, model_mapping)\u001b[0m\n\u001b[0;32m     80\u001b[0m FROM_PRETRAINED_TORCH_DOCSTRING \u001b[38;5;241m=\u001b[39m \u001b[38;5;124m\"\"\"\u001b[39m\n\u001b[0;32m     81\u001b[0m \u001b[38;5;124m        Instantiate one of the model classes of the library from a pretrained model.\u001b[39m\n\u001b[0;32m     82\u001b[0m \n\u001b[1;32m   (...)\u001b[0m\n\u001b[0;32m    185\u001b[0m \u001b[38;5;124m        ```\u001b[39m\n\u001b[0;32m    186\u001b[0m \u001b[38;5;124m\"\"\"\u001b[39m\n\u001b[0;32m    188\u001b[0m FROM_PRETRAINED_TF_DOCSTRING \u001b[38;5;241m=\u001b[39m \u001b[38;5;124m\"\"\"\u001b[39m\n\u001b[0;32m    189\u001b[0m \u001b[38;5;124m        Instantiate one of the model classes of the library from a pretrained model.\u001b[39m\n\u001b[0;32m    190\u001b[0m \n\u001b[1;32m   (...)\u001b[0m\n\u001b[0;32m    284\u001b[0m \u001b[38;5;124m        ```\u001b[39m\n\u001b[0;32m    285\u001b[0m \u001b[38;5;124m\"\"\"\u001b[39m\n\u001b[0;32m    287\u001b[0m FROM_PRETRAINED_FLAX_DOCSTRING \u001b[38;5;241m=\u001b[39m \u001b[38;5;124m\"\"\"\u001b[39m\n\u001b[0;32m    288\u001b[0m \u001b[38;5;124m        Instantiate one of the model classes of the library from a pretrained model.\u001b[39m\n\u001b[0;32m    289\u001b[0m \n\u001b[0;32m    290\u001b[0m \u001b[38;5;124m        The model class to instantiate is selected based on the `model_type` property of the config object (either\u001b[39m\n\u001b[0;32m    291\u001b[0m \u001b[38;5;124m        passed as an argument or loaded from `pretrained_model_name_or_path` if possible), or when it\u001b[39m\u001b[38;5;124m'\u001b[39m\u001b[38;5;124ms missing, by\u001b[39m\n\u001b[0;32m    292\u001b[0m \u001b[38;5;124m        falling back to using pattern matching on `pretrained_model_name_or_path`:\u001b[39m\n\u001b[0;32m    293\u001b[0m \n\u001b[0;32m    294\u001b[0m \u001b[38;5;124m        List options\u001b[39m\n\u001b[0;32m    295\u001b[0m \n\u001b[0;32m    296\u001b[0m \u001b[38;5;124m        Args:\u001b[39m\n\u001b[0;32m    297\u001b[0m \u001b[38;5;124m            pretrained_model_name_or_path (`str` or `os.PathLike`):\u001b[39m\n\u001b[0;32m    298\u001b[0m \u001b[38;5;124m                Can be either:\u001b[39m\n\u001b[0;32m    299\u001b[0m \n\u001b[0;32m    300\u001b[0m \u001b[38;5;124m                    - A string, the *model id* of a pretrained model hosted inside a model repo on huggingface.co.\u001b[39m\n\u001b[0;32m    301\u001b[0m \u001b[38;5;124m                    - A path to a *directory* containing model weights saved using\u001b[39m\n\u001b[0;32m    302\u001b[0m \u001b[38;5;124m                      [`~PreTrainedModel.save_pretrained`], e.g., `./my_model_directory/`.\u001b[39m\n\u001b[0;32m    303\u001b[0m \u001b[38;5;124m                    - A path or url to a *PyTorch state_dict save file* (e.g, `./pt_model/pytorch_model.bin`). In this\u001b[39m\n\u001b[0;32m    304\u001b[0m \u001b[38;5;124m                      case, `from_pt` should be set to `True` and a configuration object should be provided as `config`\u001b[39m\n\u001b[0;32m    305\u001b[0m \u001b[38;5;124m                      argument. This loading path is slower than converting the PyTorch model in a TensorFlow model\u001b[39m\n\u001b[0;32m    306\u001b[0m \u001b[38;5;124m                      using the provided conversion scripts and loading the TensorFlow model afterwards.\u001b[39m\n\u001b[0;32m    307\u001b[0m \u001b[38;5;124m            model_args (additional positional arguments, *optional*):\u001b[39m\n\u001b[0;32m    308\u001b[0m \u001b[38;5;124m                Will be passed along to the underlying model `__init__()` method.\u001b[39m\n\u001b[0;32m    309\u001b[0m \u001b[38;5;124m            config ([`PretrainedConfig`], *optional*):\u001b[39m\n\u001b[0;32m    310\u001b[0m \u001b[38;5;124m                Configuration for the model to use instead of an automatically loaded configuration. Configuration can\u001b[39m\n\u001b[0;32m    311\u001b[0m \u001b[38;5;124m                be automatically loaded when:\u001b[39m\n\u001b[0;32m    312\u001b[0m \n\u001b[0;32m    313\u001b[0m \u001b[38;5;124m                    - The model is a model provided by the library (loaded with the *model id* string of a pretrained\u001b[39m\n\u001b[0;32m    314\u001b[0m \u001b[38;5;124m                      model).\u001b[39m\n\u001b[0;32m    315\u001b[0m \u001b[38;5;124m                    - The model was saved using [`~PreTrainedModel.save_pretrained`] and is reloaded by supplying the\u001b[39m\n\u001b[0;32m    316\u001b[0m \u001b[38;5;124m                      save directory.\u001b[39m\n\u001b[0;32m    317\u001b[0m \u001b[38;5;124m                    - The model is loaded by supplying a local directory as `pretrained_model_name_or_path` and a\u001b[39m\n\u001b[0;32m    318\u001b[0m \u001b[38;5;124m                      configuration JSON file named *config.json* is found in the directory.\u001b[39m\n\u001b[0;32m    319\u001b[0m \u001b[38;5;124m            cache_dir (`str` or `os.PathLike`, *optional*):\u001b[39m\n\u001b[0;32m    320\u001b[0m \u001b[38;5;124m                Path to a directory in which a downloaded pretrained model configuration should be cached if the\u001b[39m\n\u001b[0;32m    321\u001b[0m \u001b[38;5;124m                standard cache should not be used.\u001b[39m\n\u001b[0;32m    322\u001b[0m \u001b[38;5;124m            from_pt (`bool`, *optional*, defaults to `False`):\u001b[39m\n\u001b[0;32m    323\u001b[0m \u001b[38;5;124m                Load the model weights from a PyTorch checkpoint save file (see docstring of\u001b[39m\n\u001b[0;32m    324\u001b[0m \u001b[38;5;124m                `pretrained_model_name_or_path` argument).\u001b[39m\n\u001b[0;32m    325\u001b[0m \u001b[38;5;124m            force_download (`bool`, *optional*, defaults to `False`):\u001b[39m\n\u001b[0;32m    326\u001b[0m \u001b[38;5;124m                Whether or not to force the (re-)download of the model weights and configuration files, overriding the\u001b[39m\n\u001b[0;32m    327\u001b[0m \u001b[38;5;124m                cached versions if they exist.\u001b[39m\n\u001b[0;32m    328\u001b[0m \u001b[38;5;124m            resume_download:\u001b[39m\n\u001b[0;32m    329\u001b[0m \u001b[38;5;124m                Deprecated and ignored. All downloads are now resumed by default when possible.\u001b[39m\n\u001b[0;32m    330\u001b[0m \u001b[38;5;124m                Will be removed in v5 of Transformers.\u001b[39m\n\u001b[0;32m    331\u001b[0m \u001b[38;5;124m            proxies (`Dict[str, str]`, *optional*):\u001b[39m\n\u001b[0;32m    332\u001b[0m \u001b[38;5;124m                A dictionary of proxy servers to use by protocol or endpoint, e.g., `\u001b[39m\u001b[38;5;124m{\u001b[39m\u001b[38;5;124m'\u001b[39m\u001b[38;5;124mhttp\u001b[39m\u001b[38;5;124m'\u001b[39m\u001b[38;5;124m: \u001b[39m\u001b[38;5;124m'\u001b[39m\u001b[38;5;124mfoo.bar:3128\u001b[39m\u001b[38;5;124m'\u001b[39m\u001b[38;5;124m,\u001b[39m\n\u001b[0;32m    333\u001b[0m \u001b[38;5;124m                \u001b[39m\u001b[38;5;124m'\u001b[39m\u001b[38;5;124mhttp://hostname\u001b[39m\u001b[38;5;124m'\u001b[39m\u001b[38;5;124m: \u001b[39m\u001b[38;5;124m'\u001b[39m\u001b[38;5;124mfoo.bar:4012\u001b[39m\u001b[38;5;124m'\u001b[39m\u001b[38;5;124m}`. The proxies are used on each request.\u001b[39m\n\u001b[0;32m    334\u001b[0m \u001b[38;5;124m            output_loading_info(`bool`, *optional*, defaults to `False`):\u001b[39m\n\u001b[0;32m    335\u001b[0m \u001b[38;5;124m                Whether ot not to also return a dictionary containing missing keys, unexpected keys and error messages.\u001b[39m\n\u001b[0;32m    336\u001b[0m \u001b[38;5;124m            local_files_only(`bool`, *optional*, defaults to `False`):\u001b[39m\n\u001b[0;32m    337\u001b[0m \u001b[38;5;124m                Whether or not to only look at local files (e.g., not try downloading the model).\u001b[39m\n\u001b[0;32m    338\u001b[0m \u001b[38;5;124m            revision (`str`, *optional*, defaults to `\u001b[39m\u001b[38;5;124m\"\u001b[39m\u001b[38;5;124mmain\u001b[39m\u001b[38;5;124m\"\u001b[39m\u001b[38;5;124m`):\u001b[39m\n\u001b[0;32m    339\u001b[0m \u001b[38;5;124m                The specific model version to use. It can be a branch name, a tag name, or a commit id, since we use a\u001b[39m\n\u001b[0;32m    340\u001b[0m \u001b[38;5;124m                git-based system for storing models and other artifacts on huggingface.co, so `revision` can be any\u001b[39m\n\u001b[0;32m    341\u001b[0m \u001b[38;5;124m                identifier allowed by git.\u001b[39m\n\u001b[0;32m    342\u001b[0m \u001b[38;5;124m            trust_remote_code (`bool`, *optional*, defaults to `False`):\u001b[39m\n\u001b[0;32m    343\u001b[0m \u001b[38;5;124m                Whether or not to allow for custom models defined on the Hub in their own modeling files. This option\u001b[39m\n\u001b[0;32m    344\u001b[0m \u001b[38;5;124m                should only be set to `True` for repositories you trust and in which you have read the code, as it will\u001b[39m\n\u001b[0;32m    345\u001b[0m \u001b[38;5;124m                execute code present on the Hub on your local machine.\u001b[39m\n\u001b[0;32m    346\u001b[0m \u001b[38;5;124m            code_revision (`str`, *optional*, defaults to `\u001b[39m\u001b[38;5;124m\"\u001b[39m\u001b[38;5;124mmain\u001b[39m\u001b[38;5;124m\"\u001b[39m\u001b[38;5;124m`):\u001b[39m\n\u001b[0;32m    347\u001b[0m \u001b[38;5;124m                The specific revision to use for the code on the Hub, if the code leaves in a different repository than\u001b[39m\n\u001b[0;32m    348\u001b[0m \u001b[38;5;124m                the rest of the model. It can be a branch name, a tag name, or a commit id, since we use a git-based\u001b[39m\n\u001b[0;32m    349\u001b[0m \u001b[38;5;124m                system for storing models and other artifacts on huggingface.co, so `revision` can be any identifier\u001b[39m\n\u001b[0;32m    350\u001b[0m \u001b[38;5;124m                allowed by git.\u001b[39m\n\u001b[0;32m    351\u001b[0m \u001b[38;5;124m            kwargs (additional keyword arguments, *optional*):\u001b[39m\n\u001b[0;32m    352\u001b[0m \u001b[38;5;124m                Can be used to update the configuration object (after it being loaded) and initiate the model (e.g.,\u001b[39m\n\u001b[0;32m    353\u001b[0m \u001b[38;5;124m                `output_attentions=True`). Behaves differently depending on whether a `config` is provided or\u001b[39m\n\u001b[0;32m    354\u001b[0m \u001b[38;5;124m                automatically loaded:\u001b[39m\n\u001b[0;32m    355\u001b[0m \n\u001b[0;32m    356\u001b[0m \u001b[38;5;124m                    - If a configuration is provided with `config`, `**kwargs` will be directly passed to the\u001b[39m\n\u001b[0;32m    357\u001b[0m \u001b[38;5;124m                      underlying model\u001b[39m\u001b[38;5;124m'\u001b[39m\u001b[38;5;124ms `__init__` method (we assume all relevant updates to the configuration have\u001b[39m\n\u001b[0;32m    358\u001b[0m \u001b[38;5;124m                      already been done)\u001b[39m\n\u001b[0;32m    359\u001b[0m \u001b[38;5;124m                    - If a configuration is not provided, `kwargs` will be first passed to the configuration class\u001b[39m\n\u001b[0;32m    360\u001b[0m \u001b[38;5;124m                      initialization function ([`~PretrainedConfig.from_pretrained`]). Each key of `kwargs` that\u001b[39m\n\u001b[0;32m    361\u001b[0m \u001b[38;5;124m                      corresponds to a configuration attribute will be used to override said attribute with the\u001b[39m\n\u001b[0;32m    362\u001b[0m \u001b[38;5;124m                      supplied `kwargs` value. Remaining keys that do not correspond to any configuration attribute\u001b[39m\n\u001b[0;32m    363\u001b[0m \u001b[38;5;124m                      will be passed to the underlying model\u001b[39m\u001b[38;5;124m'\u001b[39m\u001b[38;5;124ms `__init__` function.\u001b[39m\n\u001b[0;32m    364\u001b[0m \n\u001b[0;32m    365\u001b[0m \u001b[38;5;124m        Examples:\u001b[39m\n\u001b[0;32m    366\u001b[0m \n\u001b[0;32m    367\u001b[0m \u001b[38;5;124m        ```python\u001b[39m\n\u001b[0;32m    368\u001b[0m \u001b[38;5;124m        >>> from transformers import AutoConfig, BaseAutoModelClass\u001b[39m\n\u001b[0;32m    369\u001b[0m \n\u001b[0;32m    370\u001b[0m \u001b[38;5;124m        >>> # Download model and configuration from huggingface.co and cache.\u001b[39m\n\u001b[0;32m    371\u001b[0m \u001b[38;5;124m        >>> model = BaseAutoModelClass.from_pretrained(\u001b[39m\u001b[38;5;124m\"\u001b[39m\u001b[38;5;124mcheckpoint_placeholder\u001b[39m\u001b[38;5;124m\"\u001b[39m\u001b[38;5;124m)\u001b[39m\n\u001b[0;32m    372\u001b[0m \n\u001b[0;32m    373\u001b[0m \u001b[38;5;124m        >>> # Update configuration during loading\u001b[39m\n\u001b[0;32m    374\u001b[0m \u001b[38;5;124m        >>> model = BaseAutoModelClass.from_pretrained(\u001b[39m\u001b[38;5;124m\"\u001b[39m\u001b[38;5;124mcheckpoint_placeholder\u001b[39m\u001b[38;5;124m\"\u001b[39m\u001b[38;5;124m, output_attentions=True)\u001b[39m\n\u001b[0;32m    375\u001b[0m \u001b[38;5;124m        >>> model.config.output_attentions\u001b[39m\n\u001b[0;32m    376\u001b[0m \u001b[38;5;124m        True\u001b[39m\n\u001b[0;32m    377\u001b[0m \n\u001b[0;32m    378\u001b[0m \u001b[38;5;124m        >>> # Loading from a PyTorch checkpoint file instead of a TensorFlow model (slower)\u001b[39m\n\u001b[0;32m    379\u001b[0m \u001b[38;5;124m        >>> config = AutoConfig.from_pretrained(\u001b[39m\u001b[38;5;124m\"\u001b[39m\u001b[38;5;124m./pt_model/shortcut_placeholder_pt_model_config.json\u001b[39m\u001b[38;5;124m\"\u001b[39m\u001b[38;5;124m)\u001b[39m\n\u001b[0;32m    380\u001b[0m \u001b[38;5;124m        >>> model = BaseAutoModelClass.from_pretrained(\u001b[39m\n\u001b[0;32m    381\u001b[0m \u001b[38;5;124m        ...     \u001b[39m\u001b[38;5;124m\"\u001b[39m\u001b[38;5;124m./pt_model/shortcut_placeholder_pytorch_model.bin\u001b[39m\u001b[38;5;124m\"\u001b[39m\u001b[38;5;124m, from_pt=True, config=config\u001b[39m\n\u001b[0;32m    382\u001b[0m \u001b[38;5;124m        ... )\u001b[39m\n\u001b[1;32m--> 383\u001b[0m \u001b[38;5;124m        ```\u001b[39m\n\u001b[0;32m    384\u001b[0m \u001b[38;5;124m\"\"\"\u001b[39m\n\u001b[0;32m    387\u001b[0m \u001b[38;5;28;01mdef\u001b[39;00m \u001b[38;5;21m_get_model_class\u001b[39m(config, model_mapping):\n\u001b[0;32m    388\u001b[0m     supported_models \u001b[38;5;241m=\u001b[39m model_mapping[\u001b[38;5;28mtype\u001b[39m(config)]\n",
      "File \u001b[1;32mc:\\Users\\KHUSHI\\AppData\\Local\\Programs\\Python\\Python312\\Lib\\site-packages\\transformers\\models\\auto\\auto_factory.py:734\u001b[0m, in \u001b[0;36m__getitem__\u001b[1;34m(self, key)\u001b[0m\n\u001b[0;32m      0\u001b[0m <Error retrieving source code with stack_data see ipython/ipython#13598>\n",
      "File \u001b[1;32mc:\\Users\\KHUSHI\\AppData\\Local\\Programs\\Python\\Python312\\Lib\\site-packages\\transformers\\models\\auto\\auto_factory.py:748\u001b[0m, in \u001b[0;36m_load_attr_from_module\u001b[1;34m(self, model_type, attr)\u001b[0m\n\u001b[0;32m    746\u001b[0m \u001b[38;5;28mself\u001b[39m\u001b[38;5;241m.\u001b[39m_config_mapping \u001b[38;5;241m=\u001b[39m config_mapping\n\u001b[0;32m    747\u001b[0m \u001b[38;5;28mself\u001b[39m\u001b[38;5;241m.\u001b[39m_reverse_config_mapping \u001b[38;5;241m=\u001b[39m {v: k \u001b[38;5;28;01mfor\u001b[39;00m k, v \u001b[38;5;129;01min\u001b[39;00m config_mapping\u001b[38;5;241m.\u001b[39mitems()}\n\u001b[1;32m--> 748\u001b[0m \u001b[38;5;28mself\u001b[39m\u001b[38;5;241m.\u001b[39m_model_mapping \u001b[38;5;241m=\u001b[39m model_mapping\n\u001b[0;32m    749\u001b[0m \u001b[38;5;28mself\u001b[39m\u001b[38;5;241m.\u001b[39m_model_mapping\u001b[38;5;241m.\u001b[39m_model_mapping \u001b[38;5;241m=\u001b[39m \u001b[38;5;28mself\u001b[39m\n\u001b[0;32m    750\u001b[0m \u001b[38;5;28mself\u001b[39m\u001b[38;5;241m.\u001b[39m_extra_content \u001b[38;5;241m=\u001b[39m {}\n",
      "File \u001b[1;32mc:\\Users\\KHUSHI\\AppData\\Local\\Programs\\Python\\Python312\\Lib\\site-packages\\transformers\\models\\auto\\auto_factory.py:692\u001b[0m, in \u001b[0;36mgetattribute_from_module\u001b[1;34m(module, attr)\u001b[0m\n\u001b[0;32m    690\u001b[0m     \u001b[38;5;28;01mreturn\u001b[39;00m \u001b[38;5;28;01mNone\u001b[39;00m\n\u001b[0;32m    691\u001b[0m \u001b[38;5;28;01mif\u001b[39;00m \u001b[38;5;28misinstance\u001b[39m(attr, \u001b[38;5;28mtuple\u001b[39m):\n\u001b[1;32m--> 692\u001b[0m     \u001b[38;5;28;01mreturn\u001b[39;00m \u001b[38;5;28mtuple\u001b[39m(getattribute_from_module(module, a) \u001b[38;5;28;01mfor\u001b[39;00m a \u001b[38;5;129;01min\u001b[39;00m attr)\n\u001b[0;32m    693\u001b[0m \u001b[38;5;28;01mif\u001b[39;00m \u001b[38;5;28mhasattr\u001b[39m(module, attr):\n\u001b[0;32m    694\u001b[0m     \u001b[38;5;28;01mreturn\u001b[39;00m \u001b[38;5;28mgetattr\u001b[39m(module, attr)\n",
      "File \u001b[1;32mc:\\Users\\KHUSHI\\AppData\\Local\\Programs\\Python\\Python312\\Lib\\site-packages\\transformers\\utils\\import_utils.py:1525\u001b[0m, in \u001b[0;36m__getattr__\u001b[1;34m(self, name)\u001b[0m\n\u001b[0;32m   1514\u001b[0m ESSENTIA_IMPORT_ERROR \u001b[38;5;241m=\u001b[39m \u001b[38;5;124m\"\"\"\u001b[39m\n\u001b[0;32m   1515\u001b[0m \u001b[38;5;132;01m{0}\u001b[39;00m\u001b[38;5;124m requires essentia library. But that was not found in your environment. You can install them with pip:\u001b[39m\n\u001b[0;32m   1516\u001b[0m \u001b[38;5;124m`pip install essentia==2.1b6.dev1034`\u001b[39m\n\u001b[0;32m   1517\u001b[0m \u001b[38;5;124mPlease note that you may need to restart your runtime after installation.\u001b[39m\n\u001b[0;32m   1518\u001b[0m \u001b[38;5;124m\"\"\"\u001b[39m\n\u001b[0;32m   1520\u001b[0m \u001b[38;5;66;03m# docstyle-ignore\u001b[39;00m\n\u001b[0;32m   1521\u001b[0m LIBROSA_IMPORT_ERROR \u001b[38;5;241m=\u001b[39m \u001b[38;5;124m\"\"\"\u001b[39m\n\u001b[0;32m   1522\u001b[0m \u001b[38;5;132;01m{0}\u001b[39;00m\u001b[38;5;124m requires thes librosa library. But that was not found in your environment. You can install them with pip:\u001b[39m\n\u001b[0;32m   1523\u001b[0m \u001b[38;5;124m`pip install librosa`\u001b[39m\n\u001b[0;32m   1524\u001b[0m \u001b[38;5;124mPlease note that you may need to restart your runtime after installation.\u001b[39m\n\u001b[1;32m-> 1525\u001b[0m \u001b[38;5;124m\"\"\"\u001b[39m\n\u001b[0;32m   1527\u001b[0m \u001b[38;5;66;03m# docstyle-ignore\u001b[39;00m\n\u001b[0;32m   1528\u001b[0m PRETTY_MIDI_IMPORT_ERROR \u001b[38;5;241m=\u001b[39m \u001b[38;5;124m\"\"\"\u001b[39m\n\u001b[0;32m   1529\u001b[0m \u001b[38;5;132;01m{0}\u001b[39;00m\u001b[38;5;124m requires thes pretty_midi library. But that was not found in your environment. You can install them with pip:\u001b[39m\n\u001b[0;32m   1530\u001b[0m \u001b[38;5;124m`pip install pretty_midi`\u001b[39m\n\u001b[0;32m   1531\u001b[0m \u001b[38;5;124mPlease note that you may need to restart your runtime after installation.\u001b[39m\n\u001b[0;32m   1532\u001b[0m \u001b[38;5;124m\"\"\"\u001b[39m\n",
      "File \u001b[1;32mc:\\Users\\KHUSHI\\AppData\\Local\\Programs\\Python\\Python312\\Lib\\site-packages\\transformers\\utils\\import_utils.py:1537\u001b[0m, in \u001b[0;36m_get_module\u001b[1;34m(self, module_name)\u001b[0m\n\u001b[0;32m   1527\u001b[0m \u001b[38;5;66;03m# docstyle-ignore\u001b[39;00m\n\u001b[0;32m   1528\u001b[0m PRETTY_MIDI_IMPORT_ERROR \u001b[38;5;241m=\u001b[39m \u001b[38;5;124m\"\"\"\u001b[39m\n\u001b[0;32m   1529\u001b[0m \u001b[38;5;132;01m{0}\u001b[39;00m\u001b[38;5;124m requires thes pretty_midi library. But that was not found in your environment. You can install them with pip:\u001b[39m\n\u001b[0;32m   1530\u001b[0m \u001b[38;5;124m`pip install pretty_midi`\u001b[39m\n\u001b[0;32m   1531\u001b[0m \u001b[38;5;124mPlease note that you may need to restart your runtime after installation.\u001b[39m\n\u001b[0;32m   1532\u001b[0m \u001b[38;5;124m\"\"\"\u001b[39m\n\u001b[0;32m   1534\u001b[0m DECORD_IMPORT_ERROR \u001b[38;5;241m=\u001b[39m \u001b[38;5;124m\"\"\"\u001b[39m\n\u001b[0;32m   1535\u001b[0m \u001b[38;5;132;01m{0}\u001b[39;00m\u001b[38;5;124m requires the decord library but it was not found in your environment. You can install it with pip: `pip install\u001b[39m\n\u001b[0;32m   1536\u001b[0m \u001b[38;5;124mdecord`. Please note that you may need to restart your runtime after installation.\u001b[39m\n\u001b[1;32m-> 1537\u001b[0m \u001b[38;5;124m\"\"\"\u001b[39m\n\u001b[0;32m   1539\u001b[0m CYTHON_IMPORT_ERROR \u001b[38;5;241m=\u001b[39m \u001b[38;5;124m\"\"\"\u001b[39m\n\u001b[0;32m   1540\u001b[0m \u001b[38;5;132;01m{0}\u001b[39;00m\u001b[38;5;124m requires the Cython library but it was not found in your environment. You can install it with pip: `pip install\u001b[39m\n\u001b[0;32m   1541\u001b[0m \u001b[38;5;124mCython`. Please note that you may need to restart your runtime after installation.\u001b[39m\n\u001b[0;32m   1542\u001b[0m \u001b[38;5;124m\"\"\"\u001b[39m\n\u001b[0;32m   1544\u001b[0m JIEBA_IMPORT_ERROR \u001b[38;5;241m=\u001b[39m \u001b[38;5;124m\"\"\"\u001b[39m\n\u001b[0;32m   1545\u001b[0m \u001b[38;5;132;01m{0}\u001b[39;00m\u001b[38;5;124m requires the jieba library but it was not found in your environment. You can install it with pip: `pip install\u001b[39m\n\u001b[0;32m   1546\u001b[0m \u001b[38;5;124mjieba`. Please note that you may need to restart your runtime after installation.\u001b[39m\n\u001b[0;32m   1547\u001b[0m \u001b[38;5;124m\"\"\"\u001b[39m\n",
      "\u001b[1;31mRuntimeError\u001b[0m: Failed to import transformers.models.roberta.modeling_tf_roberta because of the following error (look up to see its traceback):\nFailed to import transformers.generation.tf_utils because of the following error (look up to see its traceback):\ncannot import name 'add_model_info_to_custom_pipelines' from 'transformers.utils' (c:\\Users\\KHUSHI\\AppData\\Local\\Programs\\Python\\Python312\\Lib\\site-packages\\transformers\\utils\\__init__.py)"
     ]
    }
   ],
   "source": [
    "from transformers import TFAutoModelForSequenceClassification, AutoTokenizer\n",
    "\n",
    "MODEL = \"cardiffnlp/twitter-roberta-base-sentiment\"\n",
    "tokenizer = AutoTokenizer.from_pretrained(MODEL)\n",
    "model = TFAutoModelForSequenceClassification.from_pretrained(MODEL)\n"
   ]
  }
 ],
 "metadata": {
  "kernelspec": {
   "display_name": "Python 3",
   "language": "python",
   "name": "python3"
  },
  "language_info": {
   "codemirror_mode": {
    "name": "ipython",
    "version": 3
   },
   "file_extension": ".py",
   "mimetype": "text/x-python",
   "name": "python",
   "nbconvert_exporter": "python",
   "pygments_lexer": "ipython3",
   "version": "3.12.2"
  }
 },
 "nbformat": 4,
 "nbformat_minor": 2
}
